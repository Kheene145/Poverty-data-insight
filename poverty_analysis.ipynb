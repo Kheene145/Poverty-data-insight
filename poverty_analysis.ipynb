{
 "cells": [
  {
   "cell_type": "code",
   "execution_count": 2,
   "id": "ab59f504-3e4b-4879-bc7e-bdda96039203",
   "metadata": {},
   "outputs": [],
   "source": [
    "# Import necessary depencies\n",
    "\n",
    "import pandas as pd\n",
    "import matplotlib.pyplot as plt\n",
    "import seaborn as sns\n"
   ]
  },
  {
   "cell_type": "code",
   "execution_count": 3,
   "id": "3abf3f2b-905a-4818-bf7f-4cab918b77f6",
   "metadata": {},
   "outputs": [],
   "source": [
    "df = pd.read_csv(\"share-of-population-in-extreme-poverty.csv\") # upload the dataset"
   ]
  },
  {
   "cell_type": "code",
   "execution_count": 4,
   "id": "fd1259a2-ecc3-4590-a222-69510e6080ee",
   "metadata": {},
   "outputs": [
    {
     "data": {
      "text/html": [
       "<div>\n",
       "<style scoped>\n",
       "    .dataframe tbody tr th:only-of-type {\n",
       "        vertical-align: middle;\n",
       "    }\n",
       "\n",
       "    .dataframe tbody tr th {\n",
       "        vertical-align: top;\n",
       "    }\n",
       "\n",
       "    .dataframe thead th {\n",
       "        text-align: right;\n",
       "    }\n",
       "</style>\n",
       "<table border=\"1\" class=\"dataframe\">\n",
       "  <thead>\n",
       "    <tr style=\"text-align: right;\">\n",
       "      <th></th>\n",
       "      <th>Entity</th>\n",
       "      <th>Code</th>\n",
       "      <th>Year</th>\n",
       "      <th>Share of population in poverty ($3 a day, 2021 prices) - Income or consumption consolidated</th>\n",
       "      <th>1097642-annotations</th>\n",
       "    </tr>\n",
       "  </thead>\n",
       "  <tbody>\n",
       "    <tr>\n",
       "      <th>0</th>\n",
       "      <td>Albania</td>\n",
       "      <td>ALB</td>\n",
       "      <td>1996</td>\n",
       "      <td>2.967841</td>\n",
       "      <td>NaN</td>\n",
       "    </tr>\n",
       "    <tr>\n",
       "      <th>1</th>\n",
       "      <td>Albania</td>\n",
       "      <td>ALB</td>\n",
       "      <td>2002</td>\n",
       "      <td>4.194722</td>\n",
       "      <td>NaN</td>\n",
       "    </tr>\n",
       "    <tr>\n",
       "      <th>2</th>\n",
       "      <td>Albania</td>\n",
       "      <td>ALB</td>\n",
       "      <td>2005</td>\n",
       "      <td>2.650218</td>\n",
       "      <td>NaN</td>\n",
       "    </tr>\n",
       "    <tr>\n",
       "      <th>3</th>\n",
       "      <td>Albania</td>\n",
       "      <td>ALB</td>\n",
       "      <td>2008</td>\n",
       "      <td>0.827308</td>\n",
       "      <td>NaN</td>\n",
       "    </tr>\n",
       "    <tr>\n",
       "      <th>4</th>\n",
       "      <td>Albania</td>\n",
       "      <td>ALB</td>\n",
       "      <td>2012</td>\n",
       "      <td>1.794590</td>\n",
       "      <td>NaN</td>\n",
       "    </tr>\n",
       "    <tr>\n",
       "      <th>...</th>\n",
       "      <td>...</td>\n",
       "      <td>...</td>\n",
       "      <td>...</td>\n",
       "      <td>...</td>\n",
       "      <td>...</td>\n",
       "    </tr>\n",
       "    <tr>\n",
       "      <th>2738</th>\n",
       "      <td>Zambia</td>\n",
       "      <td>ZMB</td>\n",
       "      <td>2015</td>\n",
       "      <td>67.892840</td>\n",
       "      <td>NaN</td>\n",
       "    </tr>\n",
       "    <tr>\n",
       "      <th>2739</th>\n",
       "      <td>Zambia</td>\n",
       "      <td>ZMB</td>\n",
       "      <td>2022</td>\n",
       "      <td>71.656150</td>\n",
       "      <td>NaN</td>\n",
       "    </tr>\n",
       "    <tr>\n",
       "      <th>2740</th>\n",
       "      <td>Zimbabwe</td>\n",
       "      <td>ZWE</td>\n",
       "      <td>2011</td>\n",
       "      <td>35.717000</td>\n",
       "      <td>NaN</td>\n",
       "    </tr>\n",
       "    <tr>\n",
       "      <th>2741</th>\n",
       "      <td>Zimbabwe</td>\n",
       "      <td>ZWE</td>\n",
       "      <td>2017</td>\n",
       "      <td>44.656870</td>\n",
       "      <td>NaN</td>\n",
       "    </tr>\n",
       "    <tr>\n",
       "      <th>2742</th>\n",
       "      <td>Zimbabwe</td>\n",
       "      <td>ZWE</td>\n",
       "      <td>2019</td>\n",
       "      <td>49.219894</td>\n",
       "      <td>NaN</td>\n",
       "    </tr>\n",
       "  </tbody>\n",
       "</table>\n",
       "<p>2743 rows × 5 columns</p>\n",
       "</div>"
      ],
      "text/plain": [
       "        Entity Code  Year  \\\n",
       "0      Albania  ALB  1996   \n",
       "1      Albania  ALB  2002   \n",
       "2      Albania  ALB  2005   \n",
       "3      Albania  ALB  2008   \n",
       "4      Albania  ALB  2012   \n",
       "...        ...  ...   ...   \n",
       "2738    Zambia  ZMB  2015   \n",
       "2739    Zambia  ZMB  2022   \n",
       "2740  Zimbabwe  ZWE  2011   \n",
       "2741  Zimbabwe  ZWE  2017   \n",
       "2742  Zimbabwe  ZWE  2019   \n",
       "\n",
       "      Share of population in poverty ($3 a day, 2021 prices) - Income or consumption consolidated  \\\n",
       "0                                              2.967841                                             \n",
       "1                                              4.194722                                             \n",
       "2                                              2.650218                                             \n",
       "3                                              0.827308                                             \n",
       "4                                              1.794590                                             \n",
       "...                                                 ...                                             \n",
       "2738                                          67.892840                                             \n",
       "2739                                          71.656150                                             \n",
       "2740                                          35.717000                                             \n",
       "2741                                          44.656870                                             \n",
       "2742                                          49.219894                                             \n",
       "\n",
       "     1097642-annotations  \n",
       "0                    NaN  \n",
       "1                    NaN  \n",
       "2                    NaN  \n",
       "3                    NaN  \n",
       "4                    NaN  \n",
       "...                  ...  \n",
       "2738                 NaN  \n",
       "2739                 NaN  \n",
       "2740                 NaN  \n",
       "2741                 NaN  \n",
       "2742                 NaN  \n",
       "\n",
       "[2743 rows x 5 columns]"
      ]
     },
     "execution_count": 4,
     "metadata": {},
     "output_type": "execute_result"
    }
   ],
   "source": [
    "df"
   ]
  },
  {
   "cell_type": "code",
   "execution_count": 5,
   "id": "98f75088-1de0-4ee4-aa01-dee4abdf80f8",
   "metadata": {},
   "outputs": [
    {
     "data": {
      "text/html": [
       "<div>\n",
       "<style scoped>\n",
       "    .dataframe tbody tr th:only-of-type {\n",
       "        vertical-align: middle;\n",
       "    }\n",
       "\n",
       "    .dataframe tbody tr th {\n",
       "        vertical-align: top;\n",
       "    }\n",
       "\n",
       "    .dataframe thead th {\n",
       "        text-align: right;\n",
       "    }\n",
       "</style>\n",
       "<table border=\"1\" class=\"dataframe\">\n",
       "  <thead>\n",
       "    <tr style=\"text-align: right;\">\n",
       "      <th></th>\n",
       "      <th>Entity</th>\n",
       "      <th>Code</th>\n",
       "      <th>Year</th>\n",
       "      <th>Share of population in poverty ($3 a day, 2021 prices) - Income or consumption consolidated</th>\n",
       "      <th>1097642-annotations</th>\n",
       "    </tr>\n",
       "  </thead>\n",
       "  <tbody>\n",
       "    <tr>\n",
       "      <th>0</th>\n",
       "      <td>Albania</td>\n",
       "      <td>ALB</td>\n",
       "      <td>1996</td>\n",
       "      <td>2.967841</td>\n",
       "      <td>NaN</td>\n",
       "    </tr>\n",
       "    <tr>\n",
       "      <th>1</th>\n",
       "      <td>Albania</td>\n",
       "      <td>ALB</td>\n",
       "      <td>2002</td>\n",
       "      <td>4.194722</td>\n",
       "      <td>NaN</td>\n",
       "    </tr>\n",
       "    <tr>\n",
       "      <th>2</th>\n",
       "      <td>Albania</td>\n",
       "      <td>ALB</td>\n",
       "      <td>2005</td>\n",
       "      <td>2.650218</td>\n",
       "      <td>NaN</td>\n",
       "    </tr>\n",
       "    <tr>\n",
       "      <th>3</th>\n",
       "      <td>Albania</td>\n",
       "      <td>ALB</td>\n",
       "      <td>2008</td>\n",
       "      <td>0.827308</td>\n",
       "      <td>NaN</td>\n",
       "    </tr>\n",
       "    <tr>\n",
       "      <th>4</th>\n",
       "      <td>Albania</td>\n",
       "      <td>ALB</td>\n",
       "      <td>2012</td>\n",
       "      <td>1.794590</td>\n",
       "      <td>NaN</td>\n",
       "    </tr>\n",
       "  </tbody>\n",
       "</table>\n",
       "</div>"
      ],
      "text/plain": [
       "    Entity Code  Year  \\\n",
       "0  Albania  ALB  1996   \n",
       "1  Albania  ALB  2002   \n",
       "2  Albania  ALB  2005   \n",
       "3  Albania  ALB  2008   \n",
       "4  Albania  ALB  2012   \n",
       "\n",
       "   Share of population in poverty ($3 a day, 2021 prices) - Income or consumption consolidated  \\\n",
       "0                                           2.967841                                             \n",
       "1                                           4.194722                                             \n",
       "2                                           2.650218                                             \n",
       "3                                           0.827308                                             \n",
       "4                                           1.794590                                             \n",
       "\n",
       "  1097642-annotations  \n",
       "0                 NaN  \n",
       "1                 NaN  \n",
       "2                 NaN  \n",
       "3                 NaN  \n",
       "4                 NaN  "
      ]
     },
     "execution_count": 5,
     "metadata": {},
     "output_type": "execute_result"
    }
   ],
   "source": [
    "df.head() # check the first 5 info"
   ]
  },
  {
   "cell_type": "code",
   "execution_count": 6,
   "id": "a087315e-0f67-4eff-b27c-f3dd750c97d4",
   "metadata": {},
   "outputs": [
    {
     "data": {
      "text/plain": [
       "(2743, 5)"
      ]
     },
     "execution_count": 6,
     "metadata": {},
     "output_type": "execute_result"
    }
   ],
   "source": [
    "df.shape # check the number of rows and columns"
   ]
  },
  {
   "cell_type": "code",
   "execution_count": 7,
   "id": "1d749cb8-c22d-421a-bf82-b015007a29ae",
   "metadata": {},
   "outputs": [
    {
     "data": {
      "text/html": [
       "<div>\n",
       "<style scoped>\n",
       "    .dataframe tbody tr th:only-of-type {\n",
       "        vertical-align: middle;\n",
       "    }\n",
       "\n",
       "    .dataframe tbody tr th {\n",
       "        vertical-align: top;\n",
       "    }\n",
       "\n",
       "    .dataframe thead th {\n",
       "        text-align: right;\n",
       "    }\n",
       "</style>\n",
       "<table border=\"1\" class=\"dataframe\">\n",
       "  <thead>\n",
       "    <tr style=\"text-align: right;\">\n",
       "      <th></th>\n",
       "      <th>Year</th>\n",
       "      <th>Share of population in poverty ($3 a day, 2021 prices) - Income or consumption consolidated</th>\n",
       "    </tr>\n",
       "  </thead>\n",
       "  <tbody>\n",
       "    <tr>\n",
       "      <th>count</th>\n",
       "      <td>2743.000000</td>\n",
       "      <td>2743.000000</td>\n",
       "    </tr>\n",
       "    <tr>\n",
       "      <th>mean</th>\n",
       "      <td>2006.826103</td>\n",
       "      <td>14.464880</td>\n",
       "    </tr>\n",
       "    <tr>\n",
       "      <th>std</th>\n",
       "      <td>11.077113</td>\n",
       "      <td>21.184644</td>\n",
       "    </tr>\n",
       "    <tr>\n",
       "      <th>min</th>\n",
       "      <td>1963.000000</td>\n",
       "      <td>0.000000</td>\n",
       "    </tr>\n",
       "    <tr>\n",
       "      <th>25%</th>\n",
       "      <td>2000.000000</td>\n",
       "      <td>0.478575</td>\n",
       "    </tr>\n",
       "    <tr>\n",
       "      <th>50%</th>\n",
       "      <td>2009.000000</td>\n",
       "      <td>3.437587</td>\n",
       "    </tr>\n",
       "    <tr>\n",
       "      <th>75%</th>\n",
       "      <td>2016.000000</td>\n",
       "      <td>20.598560</td>\n",
       "    </tr>\n",
       "    <tr>\n",
       "      <th>max</th>\n",
       "      <td>2025.000000</td>\n",
       "      <td>98.950000</td>\n",
       "    </tr>\n",
       "  </tbody>\n",
       "</table>\n",
       "</div>"
      ],
      "text/plain": [
       "              Year  \\\n",
       "count  2743.000000   \n",
       "mean   2006.826103   \n",
       "std      11.077113   \n",
       "min    1963.000000   \n",
       "25%    2000.000000   \n",
       "50%    2009.000000   \n",
       "75%    2016.000000   \n",
       "max    2025.000000   \n",
       "\n",
       "       Share of population in poverty ($3 a day, 2021 prices) - Income or consumption consolidated  \n",
       "count                                        2743.000000                                            \n",
       "mean                                           14.464880                                            \n",
       "std                                            21.184644                                            \n",
       "min                                             0.000000                                            \n",
       "25%                                             0.478575                                            \n",
       "50%                                             3.437587                                            \n",
       "75%                                            20.598560                                            \n",
       "max                                            98.950000                                            "
      ]
     },
     "execution_count": 7,
     "metadata": {},
     "output_type": "execute_result"
    }
   ],
   "source": [
    "df.describe() # check the summary statistic of the dataset"
   ]
  },
  {
   "cell_type": "code",
   "execution_count": 8,
   "id": "15247524-a32a-448c-8124-8205816dee21",
   "metadata": {},
   "outputs": [
    {
     "data": {
      "text/plain": [
       "Entity                                                                                            0\n",
       "Code                                                                                            502\n",
       "Year                                                                                              0\n",
       "Share of population in poverty ($3 a day, 2021 prices) - Income or consumption consolidated       0\n",
       "1097642-annotations                                                                            2707\n",
       "dtype: int64"
      ]
     },
     "execution_count": 8,
     "metadata": {},
     "output_type": "execute_result"
    }
   ],
   "source": [
    "df.isnull().sum() # check for missing values"
   ]
  },
  {
   "cell_type": "code",
   "execution_count": 9,
   "id": "a88c5393-0014-4280-bd4b-da6629277c0b",
   "metadata": {},
   "outputs": [
    {
     "data": {
      "text/plain": [
       "Index(['Entity', 'Code', 'Year',\n",
       "       'Share of population in poverty ($3 a day, 2021 prices) - Income or consumption consolidated',\n",
       "       '1097642-annotations'],\n",
       "      dtype='object')"
      ]
     },
     "execution_count": 9,
     "metadata": {},
     "output_type": "execute_result"
    }
   ],
   "source": [
    "df.columns # check the column names "
   ]
  },
  {
   "cell_type": "code",
   "execution_count": 10,
   "id": "62dc4bf8-7061-4bc4-b9d5-e7e17f648386",
   "metadata": {},
   "outputs": [],
   "source": [
    "new_df = df.drop('1097642-annotations', axis=1) # dropped the column '097642-annotations' because it has a huge amount of ,issing values and not necessary for our work"
   ]
  },
  {
   "cell_type": "code",
   "execution_count": 11,
   "id": "0774b579-95fe-4455-8ff1-5f2d2bf833eb",
   "metadata": {},
   "outputs": [
    {
     "data": {
      "text/html": [
       "<div>\n",
       "<style scoped>\n",
       "    .dataframe tbody tr th:only-of-type {\n",
       "        vertical-align: middle;\n",
       "    }\n",
       "\n",
       "    .dataframe tbody tr th {\n",
       "        vertical-align: top;\n",
       "    }\n",
       "\n",
       "    .dataframe thead th {\n",
       "        text-align: right;\n",
       "    }\n",
       "</style>\n",
       "<table border=\"1\" class=\"dataframe\">\n",
       "  <thead>\n",
       "    <tr style=\"text-align: right;\">\n",
       "      <th></th>\n",
       "      <th>Entity</th>\n",
       "      <th>Code</th>\n",
       "      <th>Year</th>\n",
       "      <th>Share of population in poverty ($3 a day, 2021 prices) - Income or consumption consolidated</th>\n",
       "    </tr>\n",
       "  </thead>\n",
       "  <tbody>\n",
       "    <tr>\n",
       "      <th>0</th>\n",
       "      <td>Albania</td>\n",
       "      <td>ALB</td>\n",
       "      <td>1996</td>\n",
       "      <td>2.967841</td>\n",
       "    </tr>\n",
       "    <tr>\n",
       "      <th>1</th>\n",
       "      <td>Albania</td>\n",
       "      <td>ALB</td>\n",
       "      <td>2002</td>\n",
       "      <td>4.194722</td>\n",
       "    </tr>\n",
       "    <tr>\n",
       "      <th>2</th>\n",
       "      <td>Albania</td>\n",
       "      <td>ALB</td>\n",
       "      <td>2005</td>\n",
       "      <td>2.650218</td>\n",
       "    </tr>\n",
       "    <tr>\n",
       "      <th>3</th>\n",
       "      <td>Albania</td>\n",
       "      <td>ALB</td>\n",
       "      <td>2008</td>\n",
       "      <td>0.827308</td>\n",
       "    </tr>\n",
       "    <tr>\n",
       "      <th>4</th>\n",
       "      <td>Albania</td>\n",
       "      <td>ALB</td>\n",
       "      <td>2012</td>\n",
       "      <td>1.794590</td>\n",
       "    </tr>\n",
       "    <tr>\n",
       "      <th>...</th>\n",
       "      <td>...</td>\n",
       "      <td>...</td>\n",
       "      <td>...</td>\n",
       "      <td>...</td>\n",
       "    </tr>\n",
       "    <tr>\n",
       "      <th>2738</th>\n",
       "      <td>Zambia</td>\n",
       "      <td>ZMB</td>\n",
       "      <td>2015</td>\n",
       "      <td>67.892840</td>\n",
       "    </tr>\n",
       "    <tr>\n",
       "      <th>2739</th>\n",
       "      <td>Zambia</td>\n",
       "      <td>ZMB</td>\n",
       "      <td>2022</td>\n",
       "      <td>71.656150</td>\n",
       "    </tr>\n",
       "    <tr>\n",
       "      <th>2740</th>\n",
       "      <td>Zimbabwe</td>\n",
       "      <td>ZWE</td>\n",
       "      <td>2011</td>\n",
       "      <td>35.717000</td>\n",
       "    </tr>\n",
       "    <tr>\n",
       "      <th>2741</th>\n",
       "      <td>Zimbabwe</td>\n",
       "      <td>ZWE</td>\n",
       "      <td>2017</td>\n",
       "      <td>44.656870</td>\n",
       "    </tr>\n",
       "    <tr>\n",
       "      <th>2742</th>\n",
       "      <td>Zimbabwe</td>\n",
       "      <td>ZWE</td>\n",
       "      <td>2019</td>\n",
       "      <td>49.219894</td>\n",
       "    </tr>\n",
       "  </tbody>\n",
       "</table>\n",
       "<p>2743 rows × 4 columns</p>\n",
       "</div>"
      ],
      "text/plain": [
       "        Entity Code  Year  \\\n",
       "0      Albania  ALB  1996   \n",
       "1      Albania  ALB  2002   \n",
       "2      Albania  ALB  2005   \n",
       "3      Albania  ALB  2008   \n",
       "4      Albania  ALB  2012   \n",
       "...        ...  ...   ...   \n",
       "2738    Zambia  ZMB  2015   \n",
       "2739    Zambia  ZMB  2022   \n",
       "2740  Zimbabwe  ZWE  2011   \n",
       "2741  Zimbabwe  ZWE  2017   \n",
       "2742  Zimbabwe  ZWE  2019   \n",
       "\n",
       "      Share of population in poverty ($3 a day, 2021 prices) - Income or consumption consolidated  \n",
       "0                                              2.967841                                            \n",
       "1                                              4.194722                                            \n",
       "2                                              2.650218                                            \n",
       "3                                              0.827308                                            \n",
       "4                                              1.794590                                            \n",
       "...                                                 ...                                            \n",
       "2738                                          67.892840                                            \n",
       "2739                                          71.656150                                            \n",
       "2740                                          35.717000                                            \n",
       "2741                                          44.656870                                            \n",
       "2742                                          49.219894                                            \n",
       "\n",
       "[2743 rows x 4 columns]"
      ]
     },
     "execution_count": 11,
     "metadata": {},
     "output_type": "execute_result"
    }
   ],
   "source": [
    "new_df"
   ]
  },
  {
   "cell_type": "code",
   "execution_count": 12,
   "id": "fe3f3798-4a5f-4e5d-8d01-602767bfc77f",
   "metadata": {},
   "outputs": [
    {
     "name": "stdout",
     "output_type": "stream",
     "text": [
      "       Entity Code  Year  \\\n",
      "1701  Nigeria  NGA  1985   \n",
      "1702  Nigeria  NGA  1992   \n",
      "1703  Nigeria  NGA  1996   \n",
      "1704  Nigeria  NGA  2003   \n",
      "1705  Nigeria  NGA  2010   \n",
      "\n",
      "      Share of population in poverty ($3 a day, 2021 prices) - Income or consumption consolidated  \\\n",
      "1701                                          51.055996                                             \n",
      "1702                                          55.165226                                             \n",
      "1703                                          60.907913                                             \n",
      "1704                                          51.096960                                             \n",
      "1705                                          38.485058                                             \n",
      "\n",
      "     1097642-annotations  \n",
      "1701                 NaN  \n",
      "1702                 NaN  \n",
      "1703                 NaN  \n",
      "1704                 NaN  \n",
      "1705                 NaN  \n"
     ]
    }
   ],
   "source": [
    "nigeria_df = df[df[\"Entity\"] == \"Nigeria\"]\n",
    "print(nigeria_df.head())\n"
   ]
  },
  {
   "cell_type": "code",
   "execution_count": 13,
   "id": "0f294a0f-ac2f-4f90-b8cd-186f84305504",
   "metadata": {},
   "outputs": [
    {
     "name": "stdout",
     "output_type": "stream",
     "text": [
      "       Entity Code  Year  \\\n",
      "1704  Nigeria  NGA  2003   \n",
      "1705  Nigeria  NGA  2010   \n",
      "1706  Nigeria  NGA  2012   \n",
      "1707  Nigeria  NGA  2015   \n",
      "1708  Nigeria  NGA  2018   \n",
      "\n",
      "      Share of population in poverty ($3 a day, 2021 prices) - Income or consumption consolidated  \\\n",
      "1704                                          51.096960                                             \n",
      "1705                                          38.485058                                             \n",
      "1706                                          37.443413                                             \n",
      "1707                                          35.766582                                             \n",
      "1708                                          34.192905                                             \n",
      "\n",
      "     1097642-annotations  \n",
      "1704                 NaN  \n",
      "1705                 NaN  \n",
      "1706                 NaN  \n",
      "1707                 NaN  \n",
      "1708                 NaN  \n"
     ]
    }
   ],
   "source": [
    "print(nigeria_df.tail())\n"
   ]
  },
  {
   "cell_type": "code",
   "execution_count": 14,
   "id": "06dd7116-d7a5-47ee-853d-f19fcd8c8975",
   "metadata": {},
   "outputs": [
    {
     "data": {
      "image/png": "[encoded data removed]",
      "text/plain": [
       "<Figure size 800x500 with 1 Axes>"
      ]
     },
     "metadata": {},
     "output_type": "display_data"
    }
   ],
   "source": [
    "plt.figure(figsize=(8,5))\n",
    "plt.plot(nigeria_df[\"Year\"], nigeria_df[\"Share of population in poverty ($3 a day, 2021 prices) - Income or consumption consolidated\"], marker=\"o\", color=\"green\")\n",
    "plt.title(\"Extreme Poverty Trend in Nigeria (1985–2018)\")\n",
    "plt.xlabel(\"Year\")\n",
    "plt.ylabel(\"Poverty Share (%)\")\n",
    "plt.grid(True)\n",
    "plt.show()\n"
   ]
  },
  {
   "cell_type": "code",
   "execution_count": 15,
   "id": "018b2ae7-aa3f-41cc-be7a-cb5746ea68b1",
   "metadata": {},
   "outputs": [
    {
     "name": "stdout",
     "output_type": "stream",
     "text": [
      "count     8.000000\n",
      "mean     45.514257\n",
      "std      10.210090\n",
      "min      34.192905\n",
      "25%      37.024205\n",
      "50%      44.770527\n",
      "75%      52.114027\n",
      "max      60.907913\n",
      "Name: Share of population in poverty ($3 a day, 2021 prices) - Income or consumption consolidated, dtype: float64\n"
     ]
    }
   ],
   "source": [
    "print(nigeria_df[\"Share of population in poverty ($3 a day, 2021 prices) - Income or consumption consolidated\"].describe())\n"
   ]
  },
  {
   "cell_type": "code",
   "execution_count": 16,
   "id": "2b323405-becc-4064-a6cc-6e6868e93d8d",
   "metadata": {},
   "outputs": [],
   "source": [
    "#  In 2015, this was $2,585.73 USD.\n",
    "# Divide by days in the year: $2,585.73 / 365 days = approximately $7.08 USD per day. \n",
    "\n"
   ]
  },
  {
   "cell_type": "code",
   "execution_count": 17,
   "id": "b9e43165-435a-420b-980a-63daf51a309c",
   "metadata": {},
   "outputs": [
    {
     "data": {
      "text/plain": [
       "0       False\n",
       "1       False\n",
       "2       False\n",
       "3       False\n",
       "4       False\n",
       "        ...  \n",
       "2738    False\n",
       "2739    False\n",
       "2740    False\n",
       "2741    False\n",
       "2742    False\n",
       "Length: 2743, dtype: bool"
      ]
     },
     "execution_count": 17,
     "metadata": {},
     "output_type": "execute_result"
    }
   ],
   "source": [
    "new_df.duplicated() # check for any duplicates"
   ]
  },
  {
   "cell_type": "code",
   "execution_count": 18,
   "id": "1f8d6725-1601-4770-a779-bcf5b137d851",
   "metadata": {},
   "outputs": [
    {
     "data": {
      "text/plain": [
       "array([1996, 2002, 2005, 2008, 2012, 2014, 2015, 2016, 2017, 2018, 2019,\n",
       "       2020, 1988, 1995, 2011, 2000, 1980, 1986, 1987, 1991, 1992, 1993,\n",
       "       1994, 1997, 1998, 1999, 2001, 2003, 2004, 2006, 2007, 2009, 2010,\n",
       "       2013, 2021, 2022, 2023, 1981, 1985, 1989, 1983, 1990, 1982, 1984,\n",
       "       1971, 1973, 1975, 1977, 1979, 2024, 2025, 1970, 1978, 1968, 1969,\n",
       "       1972, 1974, 1976, 1963, 1964, 1965, 1966, 1967])"
      ]
     },
     "execution_count": 18,
     "metadata": {},
     "output_type": "execute_result"
    }
   ],
   "source": [
    "new_df['Year'].unique() # Column 'Year' is in the same format"
   ]
  },
  {
   "cell_type": "code",
   "execution_count": 19,
   "id": "01e2e39f-4be0-49d1-ae27-0d3ee521afd6",
   "metadata": {},
   "outputs": [],
   "source": [
    "new_df.rename(columns={'Share of population in poverty ($3 a day, 2021 prices) - Income or consumption consolidated': 'Share of Population in Poverty'}, inplace=True)"
   ]
  },
  {
   "cell_type": "code",
   "execution_count": 20,
   "id": "99f3a484-d2b6-4daf-a37a-7623096e0823",
   "metadata": {},
   "outputs": [
    {
     "data": {
      "text/html": [
       "<div>\n",
       "<style scoped>\n",
       "    .dataframe tbody tr th:only-of-type {\n",
       "        vertical-align: middle;\n",
       "    }\n",
       "\n",
       "    .dataframe tbody tr th {\n",
       "        vertical-align: top;\n",
       "    }\n",
       "\n",
       "    .dataframe thead th {\n",
       "        text-align: right;\n",
       "    }\n",
       "</style>\n",
       "<table border=\"1\" class=\"dataframe\">\n",
       "  <thead>\n",
       "    <tr style=\"text-align: right;\">\n",
       "      <th></th>\n",
       "      <th>Entity</th>\n",
       "      <th>Code</th>\n",
       "      <th>Year</th>\n",
       "      <th>Share of Population in Poverty</th>\n",
       "    </tr>\n",
       "  </thead>\n",
       "  <tbody>\n",
       "    <tr>\n",
       "      <th>0</th>\n",
       "      <td>Albania</td>\n",
       "      <td>ALB</td>\n",
       "      <td>1996</td>\n",
       "      <td>2.967841</td>\n",
       "    </tr>\n",
       "    <tr>\n",
       "      <th>1</th>\n",
       "      <td>Albania</td>\n",
       "      <td>ALB</td>\n",
       "      <td>2002</td>\n",
       "      <td>4.194722</td>\n",
       "    </tr>\n",
       "    <tr>\n",
       "      <th>2</th>\n",
       "      <td>Albania</td>\n",
       "      <td>ALB</td>\n",
       "      <td>2005</td>\n",
       "      <td>2.650218</td>\n",
       "    </tr>\n",
       "    <tr>\n",
       "      <th>3</th>\n",
       "      <td>Albania</td>\n",
       "      <td>ALB</td>\n",
       "      <td>2008</td>\n",
       "      <td>0.827308</td>\n",
       "    </tr>\n",
       "    <tr>\n",
       "      <th>4</th>\n",
       "      <td>Albania</td>\n",
       "      <td>ALB</td>\n",
       "      <td>2012</td>\n",
       "      <td>1.794590</td>\n",
       "    </tr>\n",
       "    <tr>\n",
       "      <th>...</th>\n",
       "      <td>...</td>\n",
       "      <td>...</td>\n",
       "      <td>...</td>\n",
       "      <td>...</td>\n",
       "    </tr>\n",
       "    <tr>\n",
       "      <th>2738</th>\n",
       "      <td>Zambia</td>\n",
       "      <td>ZMB</td>\n",
       "      <td>2015</td>\n",
       "      <td>67.892840</td>\n",
       "    </tr>\n",
       "    <tr>\n",
       "      <th>2739</th>\n",
       "      <td>Zambia</td>\n",
       "      <td>ZMB</td>\n",
       "      <td>2022</td>\n",
       "      <td>71.656150</td>\n",
       "    </tr>\n",
       "    <tr>\n",
       "      <th>2740</th>\n",
       "      <td>Zimbabwe</td>\n",
       "      <td>ZWE</td>\n",
       "      <td>2011</td>\n",
       "      <td>35.717000</td>\n",
       "    </tr>\n",
       "    <tr>\n",
       "      <th>2741</th>\n",
       "      <td>Zimbabwe</td>\n",
       "      <td>ZWE</td>\n",
       "      <td>2017</td>\n",
       "      <td>44.656870</td>\n",
       "    </tr>\n",
       "    <tr>\n",
       "      <th>2742</th>\n",
       "      <td>Zimbabwe</td>\n",
       "      <td>ZWE</td>\n",
       "      <td>2019</td>\n",
       "      <td>49.219894</td>\n",
       "    </tr>\n",
       "  </tbody>\n",
       "</table>\n",
       "<p>2743 rows × 4 columns</p>\n",
       "</div>"
      ],
      "text/plain": [
       "        Entity Code  Year  Share of Population in Poverty\n",
       "0      Albania  ALB  1996                        2.967841\n",
       "1      Albania  ALB  2002                        4.194722\n",
       "2      Albania  ALB  2005                        2.650218\n",
       "3      Albania  ALB  2008                        0.827308\n",
       "4      Albania  ALB  2012                        1.794590\n",
       "...        ...  ...   ...                             ...\n",
       "2738    Zambia  ZMB  2015                       67.892840\n",
       "2739    Zambia  ZMB  2022                       71.656150\n",
       "2740  Zimbabwe  ZWE  2011                       35.717000\n",
       "2741  Zimbabwe  ZWE  2017                       44.656870\n",
       "2742  Zimbabwe  ZWE  2019                       49.219894\n",
       "\n",
       "[2743 rows x 4 columns]"
      ]
     },
     "execution_count": 20,
     "metadata": {},
     "output_type": "execute_result"
    }
   ],
   "source": [
    "new_df"
   ]
  },
  {
   "cell_type": "code",
   "execution_count": 21,
   "id": "5a1cd3b8-f9d7-4627-9e1d-54dcd56af00e",
   "metadata": {},
   "outputs": [],
   "source": [
    "global_trend = new_df.groupby(\"Year\")[\"Share of Population in Poverty\"].mean() # the global average for the share of population in poverty"
   ]
  },
  {
   "cell_type": "code",
   "execution_count": 22,
   "id": "0d755edb-0d6c-481a-a5f5-1b8b8d2fb643",
   "metadata": {},
   "outputs": [
    {
     "data": {
      "text/plain": [
       "Year\n",
       "1963    1.498612\n",
       "1964    1.497949\n",
       "1965    1.249348\n",
       "1966    1.241188\n",
       "1967    0.998477\n",
       "Name: Share of Population in Poverty, dtype: float64"
      ]
     },
     "execution_count": 22,
     "metadata": {},
     "output_type": "execute_result"
    }
   ],
   "source": [
    "global_trend.head()"
   ]
  },
  {
   "cell_type": "code",
   "execution_count": 23,
   "id": "9a2bc9bc-b100-4e63-b3de-ecea42590b28",
   "metadata": {},
   "outputs": [
    {
     "data": {
      "text/plain": [
       "Year\n",
       "2021     8.862233\n",
       "2022     5.983010\n",
       "2023     8.119889\n",
       "2024    13.888651\n",
       "2025    15.371928\n",
       "Name: Share of Population in Poverty, dtype: float64"
      ]
     },
     "execution_count": 23,
     "metadata": {},
     "output_type": "execute_result"
    }
   ],
   "source": [
    "global_trend.tail()"
   ]
  },
  {
   "cell_type": "code",
   "execution_count": 24,
   "id": "3300323c-2819-4f5d-9635-79b3b1143487",
   "metadata": {},
   "outputs": [
    {
     "data": {
      "image/png": "[encoded data removed]",
      "text/plain": [
       "<Figure size 1000x500 with 1 Axes>"
      ]
     },
     "metadata": {},
     "output_type": "display_data"
    }
   ],
   "source": [
    "plt.figure(figsize=(10,5))\n",
    "plt.plot(global_trend.index, global_trend.values, marker=\"o\")\n",
    "plt.title(\"Global Average Extreme Poverty Rate (1985–2018)\")\n",
    "plt.xlabel(\"Year\")\n",
    "plt.ylabel(\"Share of Population in Poverty (%)\")\n",
    "plt.grid(True)\n",
    "plt.show()"
   ]
  },
  {
   "cell_type": "code",
   "execution_count": 25,
   "id": "f859eee8-e287-48a5-9fa8-09987462ccf3",
   "metadata": {},
   "outputs": [
    {
     "data": {
      "text/html": [
       "<div>\n",
       "<style scoped>\n",
       "    .dataframe tbody tr th:only-of-type {\n",
       "        vertical-align: middle;\n",
       "    }\n",
       "\n",
       "    .dataframe tbody tr th {\n",
       "        vertical-align: top;\n",
       "    }\n",
       "\n",
       "    .dataframe thead th {\n",
       "        text-align: right;\n",
       "    }\n",
       "</style>\n",
       "<table border=\"1\" class=\"dataframe\">\n",
       "  <thead>\n",
       "    <tr style=\"text-align: right;\">\n",
       "      <th></th>\n",
       "      <th>first</th>\n",
       "      <th>last</th>\n",
       "    </tr>\n",
       "    <tr>\n",
       "      <th>Entity</th>\n",
       "      <th></th>\n",
       "      <th></th>\n",
       "    </tr>\n",
       "  </thead>\n",
       "  <tbody>\n",
       "    <tr>\n",
       "      <th>Albania</th>\n",
       "      <td>2.967841</td>\n",
       "      <td>0.340922</td>\n",
       "    </tr>\n",
       "    <tr>\n",
       "      <th>Algeria</th>\n",
       "      <td>12.263001</td>\n",
       "      <td>0.000000</td>\n",
       "    </tr>\n",
       "    <tr>\n",
       "      <th>Angola</th>\n",
       "      <td>26.954640</td>\n",
       "      <td>39.294704</td>\n",
       "    </tr>\n",
       "    <tr>\n",
       "      <th>Argentina (urban)</th>\n",
       "      <td>0.000000</td>\n",
       "      <td>1.157473</td>\n",
       "    </tr>\n",
       "    <tr>\n",
       "      <th>Armenia</th>\n",
       "      <td>21.169123</td>\n",
       "      <td>1.928026</td>\n",
       "    </tr>\n",
       "    <tr>\n",
       "      <th>...</th>\n",
       "      <td>...</td>\n",
       "      <td>...</td>\n",
       "    </tr>\n",
       "    <tr>\n",
       "      <th>World (excluding China)</th>\n",
       "      <td>32.880130</td>\n",
       "      <td>11.893452</td>\n",
       "    </tr>\n",
       "    <tr>\n",
       "      <th>World (excluding India)</th>\n",
       "      <td>42.500137</td>\n",
       "      <td>11.339201</td>\n",
       "    </tr>\n",
       "    <tr>\n",
       "      <th>Yemen</th>\n",
       "      <td>15.446858</td>\n",
       "      <td>33.300495</td>\n",
       "    </tr>\n",
       "    <tr>\n",
       "      <th>Zambia</th>\n",
       "      <td>62.984104</td>\n",
       "      <td>71.656150</td>\n",
       "    </tr>\n",
       "    <tr>\n",
       "      <th>Zimbabwe</th>\n",
       "      <td>35.717000</td>\n",
       "      <td>49.219894</td>\n",
       "    </tr>\n",
       "  </tbody>\n",
       "</table>\n",
       "<p>195 rows × 2 columns</p>\n",
       "</div>"
      ],
      "text/plain": [
       "                             first       last\n",
       "Entity                                       \n",
       "Albania                   2.967841   0.340922\n",
       "Algeria                  12.263001   0.000000\n",
       "Angola                   26.954640  39.294704\n",
       "Argentina (urban)         0.000000   1.157473\n",
       "Armenia                  21.169123   1.928026\n",
       "...                            ...        ...\n",
       "World (excluding China)  32.880130  11.893452\n",
       "World (excluding India)  42.500137  11.339201\n",
       "Yemen                    15.446858  33.300495\n",
       "Zambia                   62.984104  71.656150\n",
       "Zimbabwe                 35.717000  49.219894\n",
       "\n",
       "[195 rows x 2 columns]"
      ]
     },
     "execution_count": 25,
     "metadata": {},
     "output_type": "execute_result"
    }
   ],
   "source": [
    "country_change = new_df.groupby(\"Entity\")[\"Share of Population in Poverty\"].agg([\"first\", \"last\"]).dropna()\n",
    "country_change"
   ]
  },
  {
   "cell_type": "code",
   "execution_count": 26,
   "id": "09189eb9-f888-4c30-8875-36fcddeb0000",
   "metadata": {},
   "outputs": [
    {
     "data": {
      "text/plain": [
       "Entity\n",
       "Albania                     2.626919\n",
       "Algeria                    12.263001\n",
       "Angola                    -12.340064\n",
       "Argentina (urban)          -1.157473\n",
       "Armenia                    19.241097\n",
       "                             ...    \n",
       "World (excluding China)    20.986678\n",
       "World (excluding India)    31.160936\n",
       "Yemen                     -17.853637\n",
       "Zambia                     -8.672046\n",
       "Zimbabwe                  -13.502894\n",
       "Name: reduction, Length: 195, dtype: float64"
      ]
     },
     "execution_count": 26,
     "metadata": {},
     "output_type": "execute_result"
    }
   ],
   "source": [
    "country_change[\"reduction\"] = country_change[\"first\"] - country_change[\"last\"] # the difference between the first recorded year and the last\n",
    "country_change[\"reduction\"]"
   ]
  },
  {
   "cell_type": "code",
   "execution_count": 27,
   "id": "f186e660-5ac9-446b-9fb8-480615ded917",
   "metadata": {},
   "outputs": [
    {
     "name": "stdout",
     "output_type": "stream",
     "text": [
      "Top Countries with Biggest Poverty Reduction:                                 first       last  reduction\n",
      "Entity                                                      \n",
      "China (rural)                98.950000   0.000000  98.950000\n",
      "China                        97.007810   0.000000  97.007810\n",
      "China (urban)                89.296000   0.000000  89.296000\n",
      "Indonesia                    86.246400   5.438113  80.808287\n",
      "Nepal                        82.748000   2.436315  80.311685\n",
      "East Asia and Pacific (PIP)  76.886620   1.888459  74.998161\n",
      "Guinea                       86.367000  11.650445  74.716555\n",
      "Tajikistan                   79.557106  13.330254  66.226852\n",
      "Pakistan                     80.625940  16.516170  64.109770\n",
      "Kyrgyzstan                   66.172775   4.549306  61.623469\n"
     ]
    }
   ],
   "source": [
    "# Top countries with the biggest reduction\n",
    "\n",
    "top_reductions = country_change.sort_values(\"reduction\", ascending=False).head(10)\n",
    "print(f\"Top Countries with Biggest Poverty Reduction:{top_reductions}\")"
   ]
  },
  {
   "cell_type": "code",
   "execution_count": 28,
   "id": "ea28078d-d587-428d-bf72-cf6a756e5140",
   "metadata": {},
   "outputs": [
    {
     "name": "stdout",
     "output_type": "stream",
     "text": [
      "Countries with Persistently High Poverty:                                  first       last  reduction\n",
      "Entity                                                       \n",
      "Madagascar                    61.729996  87.739555 -26.009559\n",
      "Democratic Republic of Congo  94.889755  85.317670   9.572085\n",
      "Mozambique                    87.693200  82.240420   5.452780\n",
      "Ethiopia (rural)              77.181000  77.181000   0.000000\n",
      "South Sudan                   44.877140  76.502650 -31.625510\n",
      "Malawi                        64.561030  75.438220 -10.877190\n",
      "Burundi                       84.977000  74.199170  10.777830\n",
      "Rwanda (rural)                73.525000  73.525000   0.000000\n",
      "Zambia                        62.984104  71.656150  -8.672046\n",
      "Central African Republic      84.750000  71.617350  13.132650\n"
     ]
    }
   ],
   "source": [
    "# Countries where poverty remained high\n",
    "\n",
    "high_poverty = country_change.sort_values(\"last\", ascending=False).head(10)\n",
    "print(f\"Countries with Persistently High Poverty:{high_poverty}\")"
   ]
  },
  {
   "cell_type": "code",
   "execution_count": 29,
   "id": "59aea547-6b9f-4651-9b87-8c41b209f1f4",
   "metadata": {},
   "outputs": [
    {
     "name": "stderr",
     "output_type": "stream",
     "text": [
      "/tmp/ipykernel_9602/1930569997.py:2: FutureWarning: \n",
      "\n",
      "Passing `palette` without assigning `hue` is deprecated and will be removed in v0.14.0. Assign the `x` variable to `hue` and set `legend=False` for the same effect.\n",
      "\n",
      "  sns.barplot(\n"
     ]
    },
    {
     "data": {
      "image/png": "[encoded data removed]",
      "text/plain": [
       "<Figure size 1000x600 with 1 Axes>"
      ]
     },
     "metadata": {},
     "output_type": "display_data"
    }
   ],
   "source": [
    "plt.figure(figsize=(10,6))\n",
    "sns.barplot(\n",
    "    x=top_reductions.index,\n",
    "    y=top_reductions[\"reduction\"],\n",
    "    palette=\"viridis\"\n",
    ")\n",
    "\n",
    "plt.title(\"Top 10 Countries – % Reduction in Extreme Poverty (1985–2018)\")\n",
    "plt.xticks(rotation=45, ha=\"right\")\n",
    "plt.ylabel(\"Poverty Reduction (%)\")\n",
    "plt.xlabel(\"Country\")\n",
    "plt.show()\n"
   ]
  },
  {
   "cell_type": "code",
   "execution_count": 30,
   "id": "a45e52c0-639f-4a80-9901-8328f2e886f6",
   "metadata": {},
   "outputs": [
    {
     "data": {
      "text/plain": [
       "array(['Albania', 'Algeria', 'Angola', 'Argentina (urban)', 'Armenia',\n",
       "       'Australia', 'Austria', 'Azerbaijan', 'Bangladesh', 'Barbados',\n",
       "       'Belarus', 'Belgium', 'Belize', 'Benin', 'Bhutan', 'Bolivia',\n",
       "       'Bolivia (urban)', 'Bosnia and Herzegovina', 'Botswana', 'Brazil',\n",
       "       'Bulgaria', 'Burkina Faso', 'Burundi', 'Cameroon', 'Canada',\n",
       "       'Cape Verde', 'Central African Republic', 'Chad', 'Chile', 'China',\n",
       "       'China (rural)', 'China (urban)', 'Colombia', 'Colombia (urban)',\n",
       "       'Comoros', 'Congo', 'Costa Rica', \"Cote d'Ivoire\", 'Croatia',\n",
       "       'Cyprus', 'Czechia', 'Democratic Republic of Congo', 'Denmark',\n",
       "       'Djibouti', 'Dominican Republic', 'East Asia and Pacific (PIP)',\n",
       "       'East Timor', 'Eastern and Southern Africa (PIP)', 'Ecuador',\n",
       "       'Ecuador (urban)', 'Egypt', 'El Salvador', 'Equatorial Guinea',\n",
       "       'Estonia', 'Eswatini', 'Ethiopia', 'Ethiopia (rural)',\n",
       "       'Europe and Central Asia (PIP)', 'Fiji', 'Finland', 'France',\n",
       "       'Gabon', 'Gambia', 'Georgia', 'Germany', 'Ghana', 'Greece',\n",
       "       'Grenada', 'Guatemala', 'Guinea', 'Guinea-Bissau', 'Guyana',\n",
       "       'Haiti', 'Honduras', 'Honduras (urban)', 'Hungary', 'Iceland',\n",
       "       'India', 'Indonesia', 'Iran', 'Iraq', 'Ireland', 'Israel', 'Italy',\n",
       "       'Jamaica', 'Japan', 'Jordan', 'Kazakhstan', 'Kenya', 'Kiribati',\n",
       "       'Kosovo', 'Kyrgyzstan', 'Laos',\n",
       "       'Latin America and the Caribbean (PIP)', 'Latvia', 'Lebanon',\n",
       "       'Lesotho', 'Liberia', 'Lithuania', 'Luxembourg', 'Madagascar',\n",
       "       'Malawi', 'Malaysia', 'Maldives', 'Mali', 'Malta',\n",
       "       'Marshall Islands', 'Mauritania', 'Mauritius', 'Mexico',\n",
       "       'Micronesia (country)', 'Micronesia (country) (urban)',\n",
       "       'Middle East and North Africa (PIP)', 'Moldova', 'Mongolia',\n",
       "       'Montenegro', 'Morocco', 'Mozambique', 'Myanmar', 'Namibia',\n",
       "       'Nauru', 'Nepal', 'Netherlands', 'Nicaragua', 'Niger', 'Nigeria',\n",
       "       'North Macedonia', 'Norway', 'Other high income countries (PIP)',\n",
       "       'Pakistan', 'Palestine', 'Panama', 'Papua New Guinea', 'Paraguay',\n",
       "       'Peru', 'Philippines', 'Poland', 'Portugal', 'Qatar', 'Romania',\n",
       "       'Russia', 'Rwanda', 'Rwanda (rural)', 'Saint Lucia', 'Samoa',\n",
       "       'Sao Tome and Principe', 'Senegal', 'Serbia', 'Seychelles',\n",
       "       'Sierra Leone', 'Slovakia', 'Slovenia', 'Solomon Islands',\n",
       "       'South Africa', 'South Asia (PIP)', 'South Korea', 'South Sudan',\n",
       "       'Spain', 'Sri Lanka', 'Sub-Saharan Africa (PIP)', 'Sudan',\n",
       "       'Suriname', 'Suriname (urban)', 'Sweden', 'Switzerland', 'Syria',\n",
       "       'Taiwan', 'Tajikistan', 'Tanzania', 'Thailand', 'Togo', 'Tonga',\n",
       "       'Trinidad and Tobago', 'Tunisia', 'Turkey', 'Turkmenistan',\n",
       "       'Tuvalu', 'Uganda', 'Ukraine', 'United Arab Emirates',\n",
       "       'United Kingdom', 'United States', 'Uruguay', 'Uruguay (urban)',\n",
       "       'Uzbekistan', 'Vanuatu', 'Venezuela', 'Vietnam',\n",
       "       'Western and Central Africa (PIP)', 'World',\n",
       "       'World (excluding China)', 'World (excluding India)', 'Yemen',\n",
       "       'Zambia', 'Zimbabwe'], dtype=object)"
      ]
     },
     "execution_count": 30,
     "metadata": {},
     "output_type": "execute_result"
    }
   ],
   "source": [
    "new_df['Entity'].unique()"
   ]
  },
  {
   "cell_type": "code",
   "execution_count": 31,
   "id": "960d4853-32ff-4fe9-9996-98bf2cb48f64",
   "metadata": {},
   "outputs": [
    {
     "data": {
      "image/png": "[encoded data removed]",
      "text/plain": [
       "<Figure size 1000x600 with 1 Axes>"
      ]
     },
     "metadata": {},
     "output_type": "display_data"
    }
   ],
   "source": [
    "region_map = {\n",
    "    \"Nigeria\": \"Africa\", \"Kenya\": \"Africa\", \"Ethiopia\": \"Africa\",\n",
    "    \"India\": \"Asia\", \"China\": \"Asia\", \"Indonesia\": \"Asia\",\n",
    "    \"Brazil\": \"Latin America\", \"Mexico\": \"Latin America\",\n",
    "    \"Paraguay\": \"Latin America\"\n",
    "}\n",
    "new_df[\"Region\"] = new_df[\"Entity\"].map(region_map)\n",
    "\n",
    "region_trend = new_df.groupby([\"Year\", \"Region\"])[\"Share of Population in Poverty\"].mean().reset_index()\n",
    "\n",
    "plt.figure(figsize=(10,6))\n",
    "for region in region_trend[\"Region\"].dropna().unique():\n",
    "    subset = region_trend[region_trend[\"Region\"] == region]\n",
    "    plt.plot(subset[\"Year\"], subset[\"Share of Population in Poverty\"], label=region)\n",
    "\n",
    "plt.title(\"Regional Poverty Trends (1985–2018)\")\n",
    "plt.xlabel(\"Year\")\n",
    "plt.ylabel(\"Poverty Share (%)\")\n",
    "plt.legend()\n",
    "plt.grid(True)\n",
    "plt.show()"
   ]
  },
  {
   "cell_type": "code",
   "execution_count": null,
   "id": "4f332ff0-5599-454c-ad4a-93298a2035d4",
   "metadata": {},
   "outputs": [],
   "source": []
  },
  {
   "cell_type": "markdown",
   "id": "1c2ad718-2736-4c06-9f48-149be613a97e",
   "metadata": {},
   "source": [
    "## Narrow Down to Nigeria"
   ]
  },
  {
   "cell_type": "code",
   "execution_count": 32,
   "id": "6ae83621-0b77-49e1-b5db-9af84b396c0d",
   "metadata": {},
   "outputs": [
    {
     "name": "stdout",
     "output_type": "stream",
     "text": [
      "first        51.055996\n",
      "last         34.192905\n",
      "reduction    16.863091\n",
      "Name: Nigeria, dtype: float64\n"
     ]
    }
   ],
   "source": [
    "nigeria_change = country_change.loc[\"Nigeria\"]\n",
    "print(nigeria_change)\n"
   ]
  },
  {
   "cell_type": "code",
   "execution_count": 33,
   "id": "08dba8b3-edc0-43fb-bfae-280597abf7b2",
   "metadata": {},
   "outputs": [],
   "source": [
    "df2 = pd.read_csv(\"gdp-per-capita-worldbank.csv\")"
   ]
  },
  {
   "cell_type": "code",
   "execution_count": 34,
   "id": "77982a74-ec0c-4907-bae6-1445e960ef39",
   "metadata": {},
   "outputs": [
    {
     "data": {
      "text/html": [
       "<div>\n",
       "<style scoped>\n",
       "    .dataframe tbody tr th:only-of-type {\n",
       "        vertical-align: middle;\n",
       "    }\n",
       "\n",
       "    .dataframe tbody tr th {\n",
       "        vertical-align: top;\n",
       "    }\n",
       "\n",
       "    .dataframe thead th {\n",
       "        text-align: right;\n",
       "    }\n",
       "</style>\n",
       "<table border=\"1\" class=\"dataframe\">\n",
       "  <thead>\n",
       "    <tr style=\"text-align: right;\">\n",
       "      <th></th>\n",
       "      <th>Entity</th>\n",
       "      <th>Code</th>\n",
       "      <th>Year</th>\n",
       "      <th>GDP per capita, PPP (constant 2021 international $)</th>\n",
       "      <th>World regions according to OWID</th>\n",
       "    </tr>\n",
       "  </thead>\n",
       "  <tbody>\n",
       "    <tr>\n",
       "      <th>0</th>\n",
       "      <td>Afghanistan</td>\n",
       "      <td>AFG</td>\n",
       "      <td>2000</td>\n",
       "      <td>1617.8264</td>\n",
       "      <td>NaN</td>\n",
       "    </tr>\n",
       "    <tr>\n",
       "      <th>1</th>\n",
       "      <td>Afghanistan</td>\n",
       "      <td>AFG</td>\n",
       "      <td>2001</td>\n",
       "      <td>1454.1108</td>\n",
       "      <td>NaN</td>\n",
       "    </tr>\n",
       "    <tr>\n",
       "      <th>2</th>\n",
       "      <td>Afghanistan</td>\n",
       "      <td>AFG</td>\n",
       "      <td>2002</td>\n",
       "      <td>1774.3087</td>\n",
       "      <td>NaN</td>\n",
       "    </tr>\n",
       "    <tr>\n",
       "      <th>3</th>\n",
       "      <td>Afghanistan</td>\n",
       "      <td>AFG</td>\n",
       "      <td>2003</td>\n",
       "      <td>1815.9282</td>\n",
       "      <td>NaN</td>\n",
       "    </tr>\n",
       "    <tr>\n",
       "      <th>4</th>\n",
       "      <td>Afghanistan</td>\n",
       "      <td>AFG</td>\n",
       "      <td>2004</td>\n",
       "      <td>1776.9182</td>\n",
       "      <td>NaN</td>\n",
       "    </tr>\n",
       "    <tr>\n",
       "      <th>...</th>\n",
       "      <td>...</td>\n",
       "      <td>...</td>\n",
       "      <td>...</td>\n",
       "      <td>...</td>\n",
       "      <td>...</td>\n",
       "    </tr>\n",
       "    <tr>\n",
       "      <th>7105</th>\n",
       "      <td>Zimbabwe</td>\n",
       "      <td>ZWE</td>\n",
       "      <td>2019</td>\n",
       "      <td>3294.8062</td>\n",
       "      <td>NaN</td>\n",
       "    </tr>\n",
       "    <tr>\n",
       "      <th>7106</th>\n",
       "      <td>Zimbabwe</td>\n",
       "      <td>ZWE</td>\n",
       "      <td>2020</td>\n",
       "      <td>2987.2698</td>\n",
       "      <td>NaN</td>\n",
       "    </tr>\n",
       "    <tr>\n",
       "      <th>7107</th>\n",
       "      <td>Zimbabwe</td>\n",
       "      <td>ZWE</td>\n",
       "      <td>2021</td>\n",
       "      <td>3184.7854</td>\n",
       "      <td>NaN</td>\n",
       "    </tr>\n",
       "    <tr>\n",
       "      <th>7108</th>\n",
       "      <td>Zimbabwe</td>\n",
       "      <td>ZWE</td>\n",
       "      <td>2022</td>\n",
       "      <td>3323.1218</td>\n",
       "      <td>NaN</td>\n",
       "    </tr>\n",
       "    <tr>\n",
       "      <th>7109</th>\n",
       "      <td>Zimbabwe</td>\n",
       "      <td>ZWE</td>\n",
       "      <td>2023</td>\n",
       "      <td>3442.2512</td>\n",
       "      <td>Africa</td>\n",
       "    </tr>\n",
       "  </tbody>\n",
       "</table>\n",
       "<p>7110 rows × 5 columns</p>\n",
       "</div>"
      ],
      "text/plain": [
       "           Entity Code  Year  \\\n",
       "0     Afghanistan  AFG  2000   \n",
       "1     Afghanistan  AFG  2001   \n",
       "2     Afghanistan  AFG  2002   \n",
       "3     Afghanistan  AFG  2003   \n",
       "4     Afghanistan  AFG  2004   \n",
       "...           ...  ...   ...   \n",
       "7105     Zimbabwe  ZWE  2019   \n",
       "7106     Zimbabwe  ZWE  2020   \n",
       "7107     Zimbabwe  ZWE  2021   \n",
       "7108     Zimbabwe  ZWE  2022   \n",
       "7109     Zimbabwe  ZWE  2023   \n",
       "\n",
       "      GDP per capita, PPP (constant 2021 international $)  \\\n",
       "0                                             1617.8264     \n",
       "1                                             1454.1108     \n",
       "2                                             1774.3087     \n",
       "3                                             1815.9282     \n",
       "4                                             1776.9182     \n",
       "...                                                 ...     \n",
       "7105                                          3294.8062     \n",
       "7106                                          2987.2698     \n",
       "7107                                          3184.7854     \n",
       "7108                                          3323.1218     \n",
       "7109                                          3442.2512     \n",
       "\n",
       "     World regions according to OWID  \n",
       "0                                NaN  \n",
       "1                                NaN  \n",
       "2                                NaN  \n",
       "3                                NaN  \n",
       "4                                NaN  \n",
       "...                              ...  \n",
       "7105                             NaN  \n",
       "7106                             NaN  \n",
       "7107                             NaN  \n",
       "7108                             NaN  \n",
       "7109                          Africa  \n",
       "\n",
       "[7110 rows x 5 columns]"
      ]
     },
     "execution_count": 34,
     "metadata": {},
     "output_type": "execute_result"
    }
   ],
   "source": [
    "df2"
   ]
  },
  {
   "cell_type": "code",
   "execution_count": 35,
   "id": "362029ce-fb8c-4ec8-b4c1-b93ea06c3c29",
   "metadata": {},
   "outputs": [
    {
     "data": {
      "text/html": [
       "<div>\n",
       "<style scoped>\n",
       "    .dataframe tbody tr th:only-of-type {\n",
       "        vertical-align: middle;\n",
       "    }\n",
       "\n",
       "    .dataframe tbody tr th {\n",
       "        vertical-align: top;\n",
       "    }\n",
       "\n",
       "    .dataframe thead th {\n",
       "        text-align: right;\n",
       "    }\n",
       "</style>\n",
       "<table border=\"1\" class=\"dataframe\">\n",
       "  <thead>\n",
       "    <tr style=\"text-align: right;\">\n",
       "      <th></th>\n",
       "      <th>Entity</th>\n",
       "      <th>Code</th>\n",
       "      <th>Year</th>\n",
       "      <th>GDP per capita, PPP (constant 2021 international $)</th>\n",
       "      <th>World regions according to OWID</th>\n",
       "    </tr>\n",
       "  </thead>\n",
       "  <tbody>\n",
       "    <tr>\n",
       "      <th>0</th>\n",
       "      <td>Afghanistan</td>\n",
       "      <td>AFG</td>\n",
       "      <td>2000</td>\n",
       "      <td>1617.8264</td>\n",
       "      <td>NaN</td>\n",
       "    </tr>\n",
       "    <tr>\n",
       "      <th>1</th>\n",
       "      <td>Afghanistan</td>\n",
       "      <td>AFG</td>\n",
       "      <td>2001</td>\n",
       "      <td>1454.1108</td>\n",
       "      <td>NaN</td>\n",
       "    </tr>\n",
       "    <tr>\n",
       "      <th>2</th>\n",
       "      <td>Afghanistan</td>\n",
       "      <td>AFG</td>\n",
       "      <td>2002</td>\n",
       "      <td>1774.3087</td>\n",
       "      <td>NaN</td>\n",
       "    </tr>\n",
       "    <tr>\n",
       "      <th>3</th>\n",
       "      <td>Afghanistan</td>\n",
       "      <td>AFG</td>\n",
       "      <td>2003</td>\n",
       "      <td>1815.9282</td>\n",
       "      <td>NaN</td>\n",
       "    </tr>\n",
       "    <tr>\n",
       "      <th>4</th>\n",
       "      <td>Afghanistan</td>\n",
       "      <td>AFG</td>\n",
       "      <td>2004</td>\n",
       "      <td>1776.9182</td>\n",
       "      <td>NaN</td>\n",
       "    </tr>\n",
       "  </tbody>\n",
       "</table>\n",
       "</div>"
      ],
      "text/plain": [
       "        Entity Code  Year  \\\n",
       "0  Afghanistan  AFG  2000   \n",
       "1  Afghanistan  AFG  2001   \n",
       "2  Afghanistan  AFG  2002   \n",
       "3  Afghanistan  AFG  2003   \n",
       "4  Afghanistan  AFG  2004   \n",
       "\n",
       "   GDP per capita, PPP (constant 2021 international $)  \\\n",
       "0                                          1617.8264     \n",
       "1                                          1454.1108     \n",
       "2                                          1774.3087     \n",
       "3                                          1815.9282     \n",
       "4                                          1776.9182     \n",
       "\n",
       "  World regions according to OWID  \n",
       "0                             NaN  \n",
       "1                             NaN  \n",
       "2                             NaN  \n",
       "3                             NaN  \n",
       "4                             NaN  "
      ]
     },
     "execution_count": 35,
     "metadata": {},
     "output_type": "execute_result"
    }
   ],
   "source": [
    "df2.head()"
   ]
  },
  {
   "cell_type": "code",
   "execution_count": 36,
   "id": "5ef377a2-a99d-454e-add3-40f57118f644",
   "metadata": {},
   "outputs": [
    {
     "name": "stdout",
     "output_type": "stream",
     "text": [
      "<class 'pandas.core.frame.DataFrame'>\n",
      "RangeIndex: 7110 entries, 0 to 7109\n",
      "Data columns (total 5 columns):\n",
      " #   Column                                               Non-Null Count  Dtype  \n",
      "---  ------                                               --------------  -----  \n",
      " 0   Entity                                               7110 non-null   object \n",
      " 1   Code                                                 6671 non-null   object \n",
      " 2   Year                                                 7110 non-null   int64  \n",
      " 3   GDP per capita, PPP (constant 2021 international $)  7029 non-null   float64\n",
      " 4   World regions according to OWID                      272 non-null    object \n",
      "dtypes: float64(1), int64(1), object(3)\n",
      "memory usage: 277.9+ KB\n"
     ]
    }
   ],
   "source": [
    "df2.info()"
   ]
  },
  {
   "cell_type": "code",
   "execution_count": 37,
   "id": "9dea1b09-e355-42aa-93be-4cd99d17f460",
   "metadata": {},
   "outputs": [
    {
     "data": {
      "text/plain": [
       "(7110, 5)"
      ]
     },
     "execution_count": 37,
     "metadata": {},
     "output_type": "execute_result"
    }
   ],
   "source": [
    "df2.shape"
   ]
  },
  {
   "cell_type": "code",
   "execution_count": 38,
   "id": "f8619680-b8e5-483a-bb61-9adb096fd2df",
   "metadata": {},
   "outputs": [
    {
     "data": {
      "text/html": [
       "<div>\n",
       "<style scoped>\n",
       "    .dataframe tbody tr th:only-of-type {\n",
       "        vertical-align: middle;\n",
       "    }\n",
       "\n",
       "    .dataframe tbody tr th {\n",
       "        vertical-align: top;\n",
       "    }\n",
       "\n",
       "    .dataframe thead th {\n",
       "        text-align: right;\n",
       "    }\n",
       "</style>\n",
       "<table border=\"1\" class=\"dataframe\">\n",
       "  <thead>\n",
       "    <tr style=\"text-align: right;\">\n",
       "      <th></th>\n",
       "      <th>Year</th>\n",
       "      <th>GDP per capita, PPP (constant 2021 international $)</th>\n",
       "    </tr>\n",
       "  </thead>\n",
       "  <tbody>\n",
       "    <tr>\n",
       "      <th>count</th>\n",
       "      <td>7110.000000</td>\n",
       "      <td>7029.000000</td>\n",
       "    </tr>\n",
       "    <tr>\n",
       "      <th>mean</th>\n",
       "      <td>2006.887201</td>\n",
       "      <td>21631.867947</td>\n",
       "    </tr>\n",
       "    <tr>\n",
       "      <th>std</th>\n",
       "      <td>9.874807</td>\n",
       "      <td>23722.467439</td>\n",
       "    </tr>\n",
       "    <tr>\n",
       "      <th>min</th>\n",
       "      <td>1990.000000</td>\n",
       "      <td>510.822800</td>\n",
       "    </tr>\n",
       "    <tr>\n",
       "      <th>25%</th>\n",
       "      <td>1998.000000</td>\n",
       "      <td>4334.043500</td>\n",
       "    </tr>\n",
       "    <tr>\n",
       "      <th>50%</th>\n",
       "      <td>2007.000000</td>\n",
       "      <td>12659.914000</td>\n",
       "    </tr>\n",
       "    <tr>\n",
       "      <th>75%</th>\n",
       "      <td>2015.000000</td>\n",
       "      <td>32226.924000</td>\n",
       "    </tr>\n",
       "    <tr>\n",
       "      <th>max</th>\n",
       "      <td>2023.000000</td>\n",
       "      <td>174339.080000</td>\n",
       "    </tr>\n",
       "  </tbody>\n",
       "</table>\n",
       "</div>"
      ],
      "text/plain": [
       "              Year  GDP per capita, PPP (constant 2021 international $)\n",
       "count  7110.000000                                        7029.000000  \n",
       "mean   2006.887201                                       21631.867947  \n",
       "std       9.874807                                       23722.467439  \n",
       "min    1990.000000                                         510.822800  \n",
       "25%    1998.000000                                        4334.043500  \n",
       "50%    2007.000000                                       12659.914000  \n",
       "75%    2015.000000                                       32226.924000  \n",
       "max    2023.000000                                      174339.080000  "
      ]
     },
     "execution_count": 38,
     "metadata": {},
     "output_type": "execute_result"
    }
   ],
   "source": [
    "df2.describe()"
   ]
  },
  {
   "cell_type": "code",
   "execution_count": 39,
   "id": "1a1eaa22-2727-4d1a-a0c5-89cf5f4b99f2",
   "metadata": {},
   "outputs": [
    {
     "data": {
      "text/plain": [
       "Entity                                                    0\n",
       "Code                                                    439\n",
       "Year                                                      0\n",
       "GDP per capita, PPP (constant 2021 international $)      81\n",
       "World regions according to OWID                        6838\n",
       "dtype: int64"
      ]
     },
     "execution_count": 39,
     "metadata": {},
     "output_type": "execute_result"
    }
   ],
   "source": [
    "df2.isnull().sum()"
   ]
  },
  {
   "cell_type": "code",
   "execution_count": 40,
   "id": "9e89820b-8a93-4504-92ad-740bb4aa3f76",
   "metadata": {},
   "outputs": [
    {
     "data": {
      "text/plain": [
       "Index(['Entity', 'Code', 'Year',\n",
       "       'GDP per capita, PPP (constant 2021 international $)',\n",
       "       'World regions according to OWID'],\n",
       "      dtype='object')"
      ]
     },
     "execution_count": 40,
     "metadata": {},
     "output_type": "execute_result"
    }
   ],
   "source": [
    "df2.columns"
   ]
  },
  {
   "cell_type": "code",
   "execution_count": 41,
   "id": "3d1418d2-37ee-4408-be4e-d1d2351bcdb8",
   "metadata": {},
   "outputs": [],
   "source": [
    "new_df2 = df2.drop('World regions according to OWID', axis=1)"
   ]
  },
  {
   "cell_type": "code",
   "execution_count": 42,
   "id": "a63af895-3491-4605-85ce-0f2e3eb6fba4",
   "metadata": {},
   "outputs": [
    {
     "data": {
      "text/html": [
       "<div>\n",
       "<style scoped>\n",
       "    .dataframe tbody tr th:only-of-type {\n",
       "        vertical-align: middle;\n",
       "    }\n",
       "\n",
       "    .dataframe tbody tr th {\n",
       "        vertical-align: top;\n",
       "    }\n",
       "\n",
       "    .dataframe thead th {\n",
       "        text-align: right;\n",
       "    }\n",
       "</style>\n",
       "<table border=\"1\" class=\"dataframe\">\n",
       "  <thead>\n",
       "    <tr style=\"text-align: right;\">\n",
       "      <th></th>\n",
       "      <th>Entity</th>\n",
       "      <th>Code</th>\n",
       "      <th>Year</th>\n",
       "      <th>GDP per capita, PPP (constant 2021 international $)</th>\n",
       "    </tr>\n",
       "  </thead>\n",
       "  <tbody>\n",
       "    <tr>\n",
       "      <th>0</th>\n",
       "      <td>Afghanistan</td>\n",
       "      <td>AFG</td>\n",
       "      <td>2000</td>\n",
       "      <td>1617.8264</td>\n",
       "    </tr>\n",
       "    <tr>\n",
       "      <th>1</th>\n",
       "      <td>Afghanistan</td>\n",
       "      <td>AFG</td>\n",
       "      <td>2001</td>\n",
       "      <td>1454.1108</td>\n",
       "    </tr>\n",
       "    <tr>\n",
       "      <th>2</th>\n",
       "      <td>Afghanistan</td>\n",
       "      <td>AFG</td>\n",
       "      <td>2002</td>\n",
       "      <td>1774.3087</td>\n",
       "    </tr>\n",
       "    <tr>\n",
       "      <th>3</th>\n",
       "      <td>Afghanistan</td>\n",
       "      <td>AFG</td>\n",
       "      <td>2003</td>\n",
       "      <td>1815.9282</td>\n",
       "    </tr>\n",
       "    <tr>\n",
       "      <th>4</th>\n",
       "      <td>Afghanistan</td>\n",
       "      <td>AFG</td>\n",
       "      <td>2004</td>\n",
       "      <td>1776.9182</td>\n",
       "    </tr>\n",
       "    <tr>\n",
       "      <th>...</th>\n",
       "      <td>...</td>\n",
       "      <td>...</td>\n",
       "      <td>...</td>\n",
       "      <td>...</td>\n",
       "    </tr>\n",
       "    <tr>\n",
       "      <th>7105</th>\n",
       "      <td>Zimbabwe</td>\n",
       "      <td>ZWE</td>\n",
       "      <td>2019</td>\n",
       "      <td>3294.8062</td>\n",
       "    </tr>\n",
       "    <tr>\n",
       "      <th>7106</th>\n",
       "      <td>Zimbabwe</td>\n",
       "      <td>ZWE</td>\n",
       "      <td>2020</td>\n",
       "      <td>2987.2698</td>\n",
       "    </tr>\n",
       "    <tr>\n",
       "      <th>7107</th>\n",
       "      <td>Zimbabwe</td>\n",
       "      <td>ZWE</td>\n",
       "      <td>2021</td>\n",
       "      <td>3184.7854</td>\n",
       "    </tr>\n",
       "    <tr>\n",
       "      <th>7108</th>\n",
       "      <td>Zimbabwe</td>\n",
       "      <td>ZWE</td>\n",
       "      <td>2022</td>\n",
       "      <td>3323.1218</td>\n",
       "    </tr>\n",
       "    <tr>\n",
       "      <th>7109</th>\n",
       "      <td>Zimbabwe</td>\n",
       "      <td>ZWE</td>\n",
       "      <td>2023</td>\n",
       "      <td>3442.2512</td>\n",
       "    </tr>\n",
       "  </tbody>\n",
       "</table>\n",
       "<p>7110 rows × 4 columns</p>\n",
       "</div>"
      ],
      "text/plain": [
       "           Entity Code  Year  \\\n",
       "0     Afghanistan  AFG  2000   \n",
       "1     Afghanistan  AFG  2001   \n",
       "2     Afghanistan  AFG  2002   \n",
       "3     Afghanistan  AFG  2003   \n",
       "4     Afghanistan  AFG  2004   \n",
       "...           ...  ...   ...   \n",
       "7105     Zimbabwe  ZWE  2019   \n",
       "7106     Zimbabwe  ZWE  2020   \n",
       "7107     Zimbabwe  ZWE  2021   \n",
       "7108     Zimbabwe  ZWE  2022   \n",
       "7109     Zimbabwe  ZWE  2023   \n",
       "\n",
       "      GDP per capita, PPP (constant 2021 international $)  \n",
       "0                                             1617.8264    \n",
       "1                                             1454.1108    \n",
       "2                                             1774.3087    \n",
       "3                                             1815.9282    \n",
       "4                                             1776.9182    \n",
       "...                                                 ...    \n",
       "7105                                          3294.8062    \n",
       "7106                                          2987.2698    \n",
       "7107                                          3184.7854    \n",
       "7108                                          3323.1218    \n",
       "7109                                          3442.2512    \n",
       "\n",
       "[7110 rows x 4 columns]"
      ]
     },
     "execution_count": 42,
     "metadata": {},
     "output_type": "execute_result"
    }
   ],
   "source": [
    "new_df2"
   ]
  },
  {
   "cell_type": "code",
   "execution_count": 43,
   "id": "754bfda9-d8a2-4b89-a851-13869986ed78",
   "metadata": {},
   "outputs": [
    {
     "data": {
      "text/plain": [
       "0       False\n",
       "1       False\n",
       "2       False\n",
       "3       False\n",
       "4       False\n",
       "        ...  \n",
       "7105    False\n",
       "7106    False\n",
       "7107    False\n",
       "7108    False\n",
       "7109    False\n",
       "Length: 7110, dtype: bool"
      ]
     },
     "execution_count": 43,
     "metadata": {},
     "output_type": "execute_result"
    }
   ],
   "source": [
    "new_df2.duplicated()"
   ]
  },
  {
   "cell_type": "code",
   "execution_count": 44,
   "id": "bfe596c7-6f48-4774-a4c6-8c9f4ffa04da",
   "metadata": {},
   "outputs": [],
   "source": [
    "new_df2.rename(columns={'GDP per capita, PPP (constant 2021 international $)': 'GDP per capita PPP($)'}, inplace=True)"
   ]
  },
  {
   "cell_type": "code",
   "execution_count": 45,
   "id": "9eabcc20-8ee3-47e1-a813-2a8d1be92e7f",
   "metadata": {},
   "outputs": [
    {
     "data": {
      "text/html": [
       "<div>\n",
       "<style scoped>\n",
       "    .dataframe tbody tr th:only-of-type {\n",
       "        vertical-align: middle;\n",
       "    }\n",
       "\n",
       "    .dataframe tbody tr th {\n",
       "        vertical-align: top;\n",
       "    }\n",
       "\n",
       "    .dataframe thead th {\n",
       "        text-align: right;\n",
       "    }\n",
       "</style>\n",
       "<table border=\"1\" class=\"dataframe\">\n",
       "  <thead>\n",
       "    <tr style=\"text-align: right;\">\n",
       "      <th></th>\n",
       "      <th>Entity</th>\n",
       "      <th>Code</th>\n",
       "      <th>Year</th>\n",
       "      <th>GDP per capita PPP($)</th>\n",
       "    </tr>\n",
       "  </thead>\n",
       "  <tbody>\n",
       "    <tr>\n",
       "      <th>0</th>\n",
       "      <td>Afghanistan</td>\n",
       "      <td>AFG</td>\n",
       "      <td>2000</td>\n",
       "      <td>1617.8264</td>\n",
       "    </tr>\n",
       "    <tr>\n",
       "      <th>1</th>\n",
       "      <td>Afghanistan</td>\n",
       "      <td>AFG</td>\n",
       "      <td>2001</td>\n",
       "      <td>1454.1108</td>\n",
       "    </tr>\n",
       "    <tr>\n",
       "      <th>2</th>\n",
       "      <td>Afghanistan</td>\n",
       "      <td>AFG</td>\n",
       "      <td>2002</td>\n",
       "      <td>1774.3087</td>\n",
       "    </tr>\n",
       "    <tr>\n",
       "      <th>3</th>\n",
       "      <td>Afghanistan</td>\n",
       "      <td>AFG</td>\n",
       "      <td>2003</td>\n",
       "      <td>1815.9282</td>\n",
       "    </tr>\n",
       "    <tr>\n",
       "      <th>4</th>\n",
       "      <td>Afghanistan</td>\n",
       "      <td>AFG</td>\n",
       "      <td>2004</td>\n",
       "      <td>1776.9182</td>\n",
       "    </tr>\n",
       "    <tr>\n",
       "      <th>...</th>\n",
       "      <td>...</td>\n",
       "      <td>...</td>\n",
       "      <td>...</td>\n",
       "      <td>...</td>\n",
       "    </tr>\n",
       "    <tr>\n",
       "      <th>7105</th>\n",
       "      <td>Zimbabwe</td>\n",
       "      <td>ZWE</td>\n",
       "      <td>2019</td>\n",
       "      <td>3294.8062</td>\n",
       "    </tr>\n",
       "    <tr>\n",
       "      <th>7106</th>\n",
       "      <td>Zimbabwe</td>\n",
       "      <td>ZWE</td>\n",
       "      <td>2020</td>\n",
       "      <td>2987.2698</td>\n",
       "    </tr>\n",
       "    <tr>\n",
       "      <th>7107</th>\n",
       "      <td>Zimbabwe</td>\n",
       "      <td>ZWE</td>\n",
       "      <td>2021</td>\n",
       "      <td>3184.7854</td>\n",
       "    </tr>\n",
       "    <tr>\n",
       "      <th>7108</th>\n",
       "      <td>Zimbabwe</td>\n",
       "      <td>ZWE</td>\n",
       "      <td>2022</td>\n",
       "      <td>3323.1218</td>\n",
       "    </tr>\n",
       "    <tr>\n",
       "      <th>7109</th>\n",
       "      <td>Zimbabwe</td>\n",
       "      <td>ZWE</td>\n",
       "      <td>2023</td>\n",
       "      <td>3442.2512</td>\n",
       "    </tr>\n",
       "  </tbody>\n",
       "</table>\n",
       "<p>7110 rows × 4 columns</p>\n",
       "</div>"
      ],
      "text/plain": [
       "           Entity Code  Year  GDP per capita PPP($)\n",
       "0     Afghanistan  AFG  2000              1617.8264\n",
       "1     Afghanistan  AFG  2001              1454.1108\n",
       "2     Afghanistan  AFG  2002              1774.3087\n",
       "3     Afghanistan  AFG  2003              1815.9282\n",
       "4     Afghanistan  AFG  2004              1776.9182\n",
       "...           ...  ...   ...                    ...\n",
       "7105     Zimbabwe  ZWE  2019              3294.8062\n",
       "7106     Zimbabwe  ZWE  2020              2987.2698\n",
       "7107     Zimbabwe  ZWE  2021              3184.7854\n",
       "7108     Zimbabwe  ZWE  2022              3323.1218\n",
       "7109     Zimbabwe  ZWE  2023              3442.2512\n",
       "\n",
       "[7110 rows x 4 columns]"
      ]
     },
     "execution_count": 45,
     "metadata": {},
     "output_type": "execute_result"
    }
   ],
   "source": [
    "new_df2"
   ]
  },
  {
   "cell_type": "code",
   "execution_count": 46,
   "id": "ead5e8dd-55e1-45a9-b001-3a077cb3ec3c",
   "metadata": {},
   "outputs": [
    {
     "name": "stdout",
     "output_type": "stream",
     "text": [
      "       Entity Code  Year  GDP per capita PPP($)\n",
      "4668  Nigeria  NGA  1990              3650.6730\n",
      "4669  Nigeria  NGA  1991              3568.2583\n",
      "4670  Nigeria  NGA  1992              3636.7712\n",
      "4671  Nigeria  NGA  1993              3469.5803\n",
      "4672  Nigeria  NGA  1994              3317.8074\n"
     ]
    }
   ],
   "source": [
    "nigeria_gdp = new_df2[new_df2[\"Entity\"] == \"Nigeria\"].copy()\n",
    "print(nigeria_gdp.head())\n"
   ]
  },
  {
   "cell_type": "code",
   "execution_count": 47,
   "id": "9b3f8746-e072-4249-b03b-9c466d00e2d5",
   "metadata": {},
   "outputs": [
    {
     "name": "stdout",
     "output_type": "stream",
     "text": [
      "       Entity Code  Year  GDP per capita PPP($)\n",
      "4697  Nigeria  NGA  2019              5628.1777\n",
      "4698  Nigeria  NGA  2020              5410.6934\n",
      "4699  Nigeria  NGA  2021              5491.7000\n",
      "4700  Nigeria  NGA  2022              5552.8380\n",
      "4701  Nigeria  NGA  2023              5593.0566\n"
     ]
    }
   ],
   "source": [
    "print(nigeria_gdp.tail())\n"
   ]
  },
  {
   "cell_type": "code",
   "execution_count": 48,
   "id": "d82298b5-f5c1-4f98-a48d-7df19ad113f0",
   "metadata": {},
   "outputs": [
    {
     "data": {
      "text/plain": [
       "Index(['Entity', 'Code', 'Year', 'GDP per capita PPP($)'], dtype='object')"
      ]
     },
     "execution_count": 48,
     "metadata": {},
     "output_type": "execute_result"
    }
   ],
   "source": [
    "new_df2.columns"
   ]
  },
  {
   "cell_type": "code",
   "execution_count": 49,
   "id": "fdc38610-662d-46b1-b66e-f57078495106",
   "metadata": {},
   "outputs": [
    {
     "data": {
      "text/plain": [
       "4362    510.8228\n",
       "4365    525.4187\n",
       "3585    534.8097\n",
       "4364    546.2097\n",
       "4360    547.6228\n",
       "          ...   \n",
       "7003         NaN\n",
       "7038         NaN\n",
       "7039         NaN\n",
       "7040         NaN\n",
       "7041         NaN\n",
       "Name: GDP per capita PPP($), Length: 7110, dtype: float64"
      ]
     },
     "execution_count": 49,
     "metadata": {},
     "output_type": "execute_result"
    }
   ],
   "source": [
    "new_df2['GDP per capita PPP($)'].sort_values()"
   ]
  },
  {
   "cell_type": "code",
   "execution_count": 50,
   "id": "e48cccc8-56a6-4b5c-9268-1837b1558925",
   "metadata": {},
   "outputs": [
    {
     "data": {
      "text/plain": [
       "4668    10.001844\n",
       "4669     9.776050\n",
       "4670     9.963757\n",
       "4671     9.505699\n",
       "4672     9.089883\n",
       "4673     8.846915\n",
       "4674     8.980259\n",
       "4675     9.006493\n",
       "4676     9.000652\n",
       "4677     8.817708\n",
       "4678     9.015632\n",
       "4679     9.293248\n",
       "4680    10.427988\n",
       "4681    10.889775\n",
       "4682    11.572049\n",
       "4683    11.980755\n",
       "4684    12.360656\n",
       "4685    12.815184\n",
       "4686    13.306337\n",
       "4687    13.980593\n",
       "Name: Daily_income, dtype: float64"
      ]
     },
     "execution_count": 50,
     "metadata": {},
     "output_type": "execute_result"
    }
   ],
   "source": [
    "nigeria_gdp[\"Daily_income\"] = nigeria_gdp[\"GDP per capita PPP($)\"] / 365\n",
    "\n",
    "nigeria_gdp[\"Daily_income\"].head(20)"
   ]
  },
  {
   "cell_type": "code",
   "execution_count": 51,
   "id": "f3459a2c-1c89-4e3a-b07f-63e4822e063b",
   "metadata": {},
   "outputs": [],
   "source": [
    "#print(nigeria_gdp[[\"Year\", \"Daily_income\"]])\n"
   ]
  },
  {
   "cell_type": "code",
   "execution_count": 52,
   "id": "6e4b6a7a-f66b-4b9d-bd22-84ae01d4a611",
   "metadata": {},
   "outputs": [
    {
     "data": {
      "image/png": "[encoded data removed]",
      "text/plain": [
       "<Figure size 800x500 with 1 Axes>"
      ]
     },
     "metadata": {},
     "output_type": "display_data"
    }
   ],
   "source": [
    "plt.figure(figsize=(8,5))\n",
    "plt.plot(nigeria_gdp[\"Year\"], nigeria_gdp[\"Daily_income\"], marker=\"o\", color=\"green\")\n",
    "plt.title(\"Nigeria – Daily Income Over Time\")\n",
    "plt.xlabel(\"Year\")\n",
    "plt.ylabel(\"Daily Income (USD)\")\n",
    "plt.grid(True)\n",
    "plt.show()\n"
   ]
  },
  {
   "cell_type": "code",
   "execution_count": 53,
   "id": "de2fcf49-bf73-4f0d-92d4-238fcfdb77de",
   "metadata": {},
   "outputs": [],
   "source": [
    "merged = pd.merge(nigeria_df, nigeria_gdp, on=\"Year\", how=\"inner\")\n",
    "\n",
    "\n",
    "\n",
    "\n",
    "# # Daily income (right axis)\n",
    "# ax2 = ax1.twinx()\n",
    "# ax2.plot(merged[\"Year\"], merged[\"Daily_income\"], color=\"blue\", marker=\"s\", label=\"Avg Daily Income ($)\")\n",
    "# ax2.set_ylabel(\"Average Daily Income ($)\", color=\"blue\")\n",
    "# ax2.tick_params(axis=\"y\", labelcolor=\"blue\")\n",
    "\n",
    "# plt.title(\"Nigeria: Extreme Poverty vs. Average Daily Income\")\n",
    "# plt.show()\n",
    "\n",
    "# # -------------------------------\n",
    "# # Step 5: Quick stats\n",
    "# # -------------------------------\n",
    "# print(\"Latest year in dataset:\", merged['Year'].max())\n",
    "# print(\"Extreme Poverty Share:\", merged.loc[merged['Year']==merged['Year'].max(), 'Poverty_Share'].values[0], \"%\")\n",
    "# print(\"Avg Daily Income:\", merged.loc[merged['Year']==merged['Year'].max(), 'Daily_income'].values[0], \"USD\")"
   ]
  },
  {
   "cell_type": "code",
   "execution_count": 54,
   "id": "58d8139e-4ac9-4aaa-9a71-dc824f69d0b2",
   "metadata": {},
   "outputs": [
    {
     "data": {
      "text/html": [
       "<div>\n",
       "<style scoped>\n",
       "    .dataframe tbody tr th:only-of-type {\n",
       "        vertical-align: middle;\n",
       "    }\n",
       "\n",
       "    .dataframe tbody tr th {\n",
       "        vertical-align: top;\n",
       "    }\n",
       "\n",
       "    .dataframe thead th {\n",
       "        text-align: right;\n",
       "    }\n",
       "</style>\n",
       "<table border=\"1\" class=\"dataframe\">\n",
       "  <thead>\n",
       "    <tr style=\"text-align: right;\">\n",
       "      <th></th>\n",
       "      <th>Entity_x</th>\n",
       "      <th>Code_x</th>\n",
       "      <th>Year</th>\n",
       "      <th>Share of population in poverty ($3 a day, 2021 prices) - Income or consumption consolidated</th>\n",
       "      <th>1097642-annotations</th>\n",
       "      <th>Entity_y</th>\n",
       "      <th>Code_y</th>\n",
       "      <th>GDP per capita PPP($)</th>\n",
       "      <th>Daily_income</th>\n",
       "    </tr>\n",
       "  </thead>\n",
       "  <tbody>\n",
       "    <tr>\n",
       "      <th>0</th>\n",
       "      <td>Nigeria</td>\n",
       "      <td>NGA</td>\n",
       "      <td>1992</td>\n",
       "      <td>55.165226</td>\n",
       "      <td>NaN</td>\n",
       "      <td>Nigeria</td>\n",
       "      <td>NGA</td>\n",
       "      <td>3636.7712</td>\n",
       "      <td>9.963757</td>\n",
       "    </tr>\n",
       "    <tr>\n",
       "      <th>1</th>\n",
       "      <td>Nigeria</td>\n",
       "      <td>NGA</td>\n",
       "      <td>1996</td>\n",
       "      <td>60.907913</td>\n",
       "      <td>NaN</td>\n",
       "      <td>Nigeria</td>\n",
       "      <td>NGA</td>\n",
       "      <td>3277.7944</td>\n",
       "      <td>8.980259</td>\n",
       "    </tr>\n",
       "    <tr>\n",
       "      <th>2</th>\n",
       "      <td>Nigeria</td>\n",
       "      <td>NGA</td>\n",
       "      <td>2003</td>\n",
       "      <td>51.096960</td>\n",
       "      <td>NaN</td>\n",
       "      <td>Nigeria</td>\n",
       "      <td>NGA</td>\n",
       "      <td>3974.7678</td>\n",
       "      <td>10.889775</td>\n",
       "    </tr>\n",
       "    <tr>\n",
       "      <th>3</th>\n",
       "      <td>Nigeria</td>\n",
       "      <td>NGA</td>\n",
       "      <td>2010</td>\n",
       "      <td>38.485058</td>\n",
       "      <td>NaN</td>\n",
       "      <td>Nigeria</td>\n",
       "      <td>NGA</td>\n",
       "      <td>5359.5186</td>\n",
       "      <td>14.683613</td>\n",
       "    </tr>\n",
       "    <tr>\n",
       "      <th>4</th>\n",
       "      <td>Nigeria</td>\n",
       "      <td>NGA</td>\n",
       "      <td>2012</td>\n",
       "      <td>37.443413</td>\n",
       "      <td>NaN</td>\n",
       "      <td>Nigeria</td>\n",
       "      <td>NGA</td>\n",
       "      <td>5563.6416</td>\n",
       "      <td>15.242854</td>\n",
       "    </tr>\n",
       "    <tr>\n",
       "      <th>5</th>\n",
       "      <td>Nigeria</td>\n",
       "      <td>NGA</td>\n",
       "      <td>2015</td>\n",
       "      <td>35.766582</td>\n",
       "      <td>NaN</td>\n",
       "      <td>Nigeria</td>\n",
       "      <td>NGA</td>\n",
       "      <td>5985.0940</td>\n",
       "      <td>16.397518</td>\n",
       "    </tr>\n",
       "    <tr>\n",
       "      <th>6</th>\n",
       "      <td>Nigeria</td>\n",
       "      <td>NGA</td>\n",
       "      <td>2018</td>\n",
       "      <td>34.192905</td>\n",
       "      <td>NaN</td>\n",
       "      <td>Nigeria</td>\n",
       "      <td>NGA</td>\n",
       "      <td>5628.7407</td>\n",
       "      <td>15.421207</td>\n",
       "    </tr>\n",
       "  </tbody>\n",
       "</table>\n",
       "</div>"
      ],
      "text/plain": [
       "  Entity_x Code_x  Year  \\\n",
       "0  Nigeria    NGA  1992   \n",
       "1  Nigeria    NGA  1996   \n",
       "2  Nigeria    NGA  2003   \n",
       "3  Nigeria    NGA  2010   \n",
       "4  Nigeria    NGA  2012   \n",
       "5  Nigeria    NGA  2015   \n",
       "6  Nigeria    NGA  2018   \n",
       "\n",
       "   Share of population in poverty ($3 a day, 2021 prices) - Income or consumption consolidated  \\\n",
       "0                                          55.165226                                             \n",
       "1                                          60.907913                                             \n",
       "2                                          51.096960                                             \n",
       "3                                          38.485058                                             \n",
       "4                                          37.443413                                             \n",
       "5                                          35.766582                                             \n",
       "6                                          34.192905                                             \n",
       "\n",
       "  1097642-annotations Entity_y Code_y  GDP per capita PPP($)  Daily_income  \n",
       "0                 NaN  Nigeria    NGA              3636.7712      9.963757  \n",
       "1                 NaN  Nigeria    NGA              3277.7944      8.980259  \n",
       "2                 NaN  Nigeria    NGA              3974.7678     10.889775  \n",
       "3                 NaN  Nigeria    NGA              5359.5186     14.683613  \n",
       "4                 NaN  Nigeria    NGA              5563.6416     15.242854  \n",
       "5                 NaN  Nigeria    NGA              5985.0940     16.397518  \n",
       "6                 NaN  Nigeria    NGA              5628.7407     15.421207  "
      ]
     },
     "execution_count": 54,
     "metadata": {},
     "output_type": "execute_result"
    }
   ],
   "source": [
    "merged"
   ]
  },
  {
   "cell_type": "code",
   "execution_count": 55,
   "id": "f6c1f6d3-49e0-4f32-8a78-f0dfc57fd6cd",
   "metadata": {},
   "outputs": [],
   "source": [
    "#new_merged = df.drop('1097642-annotations', axis=1)"
   ]
  },
  {
   "cell_type": "code",
   "execution_count": 56,
   "id": "1ccf24ff-87e8-4c54-8f8e-0adb9e20e48f",
   "metadata": {},
   "outputs": [
    {
     "name": "stdout",
     "output_type": "stream",
     "text": [
      "<class 'pandas.core.frame.DataFrame'>\n",
      "RangeIndex: 7 entries, 0 to 6\n",
      "Data columns (total 9 columns):\n",
      " #   Column                                                                                       Non-Null Count  Dtype  \n",
      "---  ------                                                                                       --------------  -----  \n",
      " 0   Entity_x                                                                                     7 non-null      object \n",
      " 1   Code_x                                                                                       7 non-null      object \n",
      " 2   Year                                                                                         7 non-null      int64  \n",
      " 3   Share of population in poverty ($3 a day, 2021 prices) - Income or consumption consolidated  7 non-null      float64\n",
      " 4   1097642-annotations                                                                          0 non-null      object \n",
      " 5   Entity_y                                                                                     7 non-null      object \n",
      " 6   Code_y                                                                                       7 non-null      object \n",
      " 7   GDP per capita PPP($)                                                                        7 non-null      float64\n",
      " 8   Daily_income                                                                                 7 non-null      float64\n",
      "dtypes: float64(3), int64(1), object(5)\n",
      "memory usage: 636.0+ bytes\n"
     ]
    }
   ],
   "source": [
    "merged.info()"
   ]
  },
  {
   "cell_type": "code",
   "execution_count": 57,
   "id": "559a5b9c-8df5-451e-995f-47dbb189dddb",
   "metadata": {},
   "outputs": [
    {
     "data": {
      "text/html": [
       "<div>\n",
       "<style scoped>\n",
       "    .dataframe tbody tr th:only-of-type {\n",
       "        vertical-align: middle;\n",
       "    }\n",
       "\n",
       "    .dataframe tbody tr th {\n",
       "        vertical-align: top;\n",
       "    }\n",
       "\n",
       "    .dataframe thead th {\n",
       "        text-align: right;\n",
       "    }\n",
       "</style>\n",
       "<table border=\"1\" class=\"dataframe\">\n",
       "  <thead>\n",
       "    <tr style=\"text-align: right;\">\n",
       "      <th></th>\n",
       "      <th>Year</th>\n",
       "      <th>Share of population in poverty ($3 a day, 2021 prices) - Income or consumption consolidated</th>\n",
       "      <th>GDP per capita PPP($)</th>\n",
       "      <th>Daily_income</th>\n",
       "    </tr>\n",
       "  </thead>\n",
       "  <tbody>\n",
       "    <tr>\n",
       "      <th>count</th>\n",
       "      <td>7.000000</td>\n",
       "      <td>7.000000</td>\n",
       "      <td>7.000000</td>\n",
       "      <td>7.000000</td>\n",
       "    </tr>\n",
       "    <tr>\n",
       "      <th>mean</th>\n",
       "      <td>2006.571429</td>\n",
       "      <td>44.722580</td>\n",
       "      <td>4775.189757</td>\n",
       "      <td>13.082712</td>\n",
       "    </tr>\n",
       "    <tr>\n",
       "      <th>std</th>\n",
       "      <td>9.829499</td>\n",
       "      <td>10.759674</td>\n",
       "      <td>1105.620412</td>\n",
       "      <td>3.029097</td>\n",
       "    </tr>\n",
       "    <tr>\n",
       "      <th>min</th>\n",
       "      <td>1992.000000</td>\n",
       "      <td>34.192905</td>\n",
       "      <td>3277.794400</td>\n",
       "      <td>8.980259</td>\n",
       "    </tr>\n",
       "    <tr>\n",
       "      <th>25%</th>\n",
       "      <td>1999.500000</td>\n",
       "      <td>36.604997</td>\n",
       "      <td>3805.769500</td>\n",
       "      <td>10.426766</td>\n",
       "    </tr>\n",
       "    <tr>\n",
       "      <th>50%</th>\n",
       "      <td>2010.000000</td>\n",
       "      <td>38.485058</td>\n",
       "      <td>5359.518600</td>\n",
       "      <td>14.683613</td>\n",
       "    </tr>\n",
       "    <tr>\n",
       "      <th>75%</th>\n",
       "      <td>2013.500000</td>\n",
       "      <td>53.131093</td>\n",
       "      <td>5596.191150</td>\n",
       "      <td>15.332031</td>\n",
       "    </tr>\n",
       "    <tr>\n",
       "      <th>max</th>\n",
       "      <td>2018.000000</td>\n",
       "      <td>60.907913</td>\n",
       "      <td>5985.094000</td>\n",
       "      <td>16.397518</td>\n",
       "    </tr>\n",
       "  </tbody>\n",
       "</table>\n",
       "</div>"
      ],
      "text/plain": [
       "              Year  \\\n",
       "count     7.000000   \n",
       "mean   2006.571429   \n",
       "std       9.829499   \n",
       "min    1992.000000   \n",
       "25%    1999.500000   \n",
       "50%    2010.000000   \n",
       "75%    2013.500000   \n",
       "max    2018.000000   \n",
       "\n",
       "       Share of population in poverty ($3 a day, 2021 prices) - Income or consumption consolidated  \\\n",
       "count                                           7.000000                                             \n",
       "mean                                           44.722580                                             \n",
       "std                                            10.759674                                             \n",
       "min                                            34.192905                                             \n",
       "25%                                            36.604997                                             \n",
       "50%                                            38.485058                                             \n",
       "75%                                            53.131093                                             \n",
       "max                                            60.907913                                             \n",
       "\n",
       "       GDP per capita PPP($)  Daily_income  \n",
       "count               7.000000      7.000000  \n",
       "mean             4775.189757     13.082712  \n",
       "std              1105.620412      3.029097  \n",
       "min              3277.794400      8.980259  \n",
       "25%              3805.769500     10.426766  \n",
       "50%              5359.518600     14.683613  \n",
       "75%              5596.191150     15.332031  \n",
       "max              5985.094000     16.397518  "
      ]
     },
     "execution_count": 57,
     "metadata": {},
     "output_type": "execute_result"
    }
   ],
   "source": [
    "merged.describe()"
   ]
  },
  {
   "cell_type": "code",
   "execution_count": 58,
   "id": "a10eb508-4224-4bea-80aa-dbe991cc0ef9",
   "metadata": {},
   "outputs": [],
   "source": [
    "merged.rename(columns={'Share of population in poverty ($3 a day, 2021 prices) - Income or consumption consolidated': 'Share of Population in Poverty'}, inplace=True)"
   ]
  },
  {
   "cell_type": "code",
   "execution_count": 60,
   "id": "da44ec81-eb99-44b4-9dc8-0704a509514e",
   "metadata": {},
   "outputs": [
    {
     "data": {
      "image/png": "[encoded data removed]",
      "text/plain": [
       "<Figure size 1000x600 with 2 Axes>"
      ]
     },
     "metadata": {},
     "output_type": "display_data"
    }
   ],
   "source": [
    "# Pllot for extreme poverty vs average dailyy income\n",
    "fig, ax1 = plt.subplots(figsize=(10,6))\n",
    "\n",
    "ax1.plot(merged[\"Year\"], merged[\"Share of Population in Poverty\"], color=\"red\", marker=\"o\", label=\"Extreme Poverty Share (%)\")\n",
    "ax1.set_ylabel(\"Extreme Poverty Share (%)\", color=\"red\")\n",
    "ax1.tick_params(axis=\"y\", labelcolor=\"red\")\n",
    "\n",
    "ax2 = ax1.twinx()\n",
    "ax2.plot(merged[\"Year\"], merged[\"Daily_income\"], color=\"blue\", marker=\"s\", label=\"Avg Daily Income ($)\")\n",
    "ax2.set_ylabel(\"Average Daily Income ($)\", color=\"blue\")\n",
    "ax2.tick_params(axis=\"y\", labelcolor=\"blue\")\n",
    "\n",
    "plt.title(\"Nigeria: Extreme Poverty vs. Average Daily Income\")\n",
    "fig.tight_layout()\n",
    "plt.show()\n",
    "\n"
   ]
  },
  {
   "cell_type": "code",
   "execution_count": null,
   "id": "310bf8a6-5cb9-45d2-a6d9-1e08da96cbdd",
   "metadata": {},
   "outputs": [],
   "source": []
  },
  {
   "cell_type": "code",
   "execution_count": null,
   "id": "9f05dfe8-5a3e-4f4d-9876-dff27bcd79ed",
   "metadata": {},
   "outputs": [],
   "source": []
  },
  {
   "cell_type": "code",
   "execution_count": null,
   "id": "aee586eb-eace-4845-9f57-2f74999bfc28",
   "metadata": {},
   "outputs": [],
   "source": []
  },
  {
   "cell_type": "code",
   "execution_count": null,
   "id": "047dbc5a-0876-423d-bda5-b903576cb7a3",
   "metadata": {},
   "outputs": [],
   "source": []
  },
  {
   "cell_type": "code",
   "execution_count": null,
   "id": "bd2b3212-abf2-48d5-840a-a512efb986e4",
   "metadata": {},
   "outputs": [],
   "source": []
  },
  {
   "cell_type": "code",
   "execution_count": null,
   "id": "90e19c0c-1604-41d1-a2cb-dc4f484ba309",
   "metadata": {},
   "outputs": [],
   "source": []
  },
  {
   "cell_type": "code",
   "execution_count": null,
   "id": "26704b6a-895b-4cad-a888-9c1f071e53e5",
   "metadata": {},
   "outputs": [],
   "source": []
  }
 ],
 "metadata": {
  "kernelspec": {
   "display_name": "Python [conda env:base] *",
   "language": "python",
   "name": "conda-base-py"
  },
  "language_info": {
   "codemirror_mode": {
    "name": "ipython",
    "version": 3
   },
   "file_extension": ".py",
   "mimetype": "text/x-python",
   "name": "python",
   "nbconvert_exporter": "python",
   "pygments_lexer": "ipython3",
   "version": "3.13.5"
  }
 },
 "nbformat": 4,
 "nbformat_minor": 5
}
